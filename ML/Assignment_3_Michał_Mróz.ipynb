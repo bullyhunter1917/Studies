{
  "cells": [
    {
      "cell_type": "markdown",
      "metadata": {
        "id": "view-in-github",
        "colab_type": "text"
      },
      "source": [
        "<a href=\"https://colab.research.google.com/github/bullyhunter1917/Studies/blob/main/ML/Assignment_3_Micha%C5%82_Mr%C3%B3z.ipynb\" target=\"_parent\"><img src=\"https://colab.research.google.com/assets/colab-badge.svg\" alt=\"Open In Colab\"/></a>"
      ]
    },
    {
      "cell_type": "markdown",
      "metadata": {
        "id": "ElRy5uD-vMHw"
      },
      "source": [
        "<a href=\"https://colab.research.google.com/github/marekpiotradamczyk/ml_uwr_22/blob/main/Assignments/Assignment3.ipynb\" target=\"_parent\"><img src=\"https://colab.research.google.com/assets/colab-badge.svg\" alt=\"Open In Colab\"/></a>"
      ]
    },
    {
      "cell_type": "markdown",
      "metadata": {
        "id": "P7IFJ5_Y33-8"
      },
      "source": [
        "# Lab Assignment 3\n"
      ]
    },
    {
      "cell_type": "markdown",
      "metadata": {
        "id": "goqGXGZT2DKK"
      },
      "source": [
        "## Important notes\n",
        "\n",
        "**Submission deadline:**\n",
        "**lab session in the week of 24-28 of October 2022**\n",
        "\n",
        "**Points: 3+2+2=7**\n",
        "\n",
        "Please let us know about any problems with it - we will try to correct them quickly. Also, please do not hesitate to use GitHub’s pull requests to send us corrections!"
      ]
    },
    {
      "cell_type": "markdown",
      "metadata": {
        "id": "Es80_WJM33_n"
      },
      "source": [
        "## k-Nearest Neighbors\n",
        "\n",
        "We will use the loaded Iris data describing iris flowers\n",
        "and shows relations between their length and petal width for three\n",
        "species (namely: setosa, versicolor, virginica).\n",
        "\n",
        "For this exercise we will restrict our analysis to just two variables: **petal length** and **petal width**."
      ]
    },
    {
      "cell_type": "code",
      "execution_count": null,
      "metadata": {
        "id": "YxzWq6iO2KPm"
      },
      "outputs": [],
      "source": [
        "# Standard IPython notebook imports\n",
        "%matplotlib inline\n",
        "\n",
        "import os\n",
        "\n",
        "import httpimport\n",
        "import matplotlib.pyplot as plt\n",
        "import numpy as np\n",
        "import pandas as pd\n",
        "from tqdm.auto import tqdm\n",
        "import scipy.stats as sstats\n",
        "\n",
        "import seaborn as sns\n",
        "from sklearn import datasets\n",
        "\n",
        "# In this way we can import functions straight from github\n",
        "with httpimport.github_repo('janchorowski', 'nn_assignments', \n",
        "                            module='common', branch='nn18'):\n",
        "     from common.plotting import plot_mat\n",
        "\n",
        "sns.set_style('whitegrid')\n",
        "import warnings\n",
        "warnings.filterwarnings('ignore')"
      ]
    },
    {
      "cell_type": "code",
      "execution_count": null,
      "metadata": {
        "colab": {
          "base_uri": "https://localhost:8080/",
          "height": 363
        },
        "id": "FzhoE5MWerAf",
        "outputId": "c3483f8e-4788-496b-d92e-e216844ab998"
      },
      "outputs": [
        {
          "output_type": "execute_result",
          "data": {
            "text/plain": [
              "   sepal_length  sepal_width  petal_length  petal_width       target\n",
              "0           5.1          3.5           1.4          0.2  Iris-setosa\n",
              "1           4.9          3.0           1.4          0.2  Iris-setosa\n",
              "2           4.7          3.2           1.3          0.2  Iris-setosa\n",
              "3           4.6          3.1           1.5          0.2  Iris-setosa\n",
              "4           5.0          3.6           1.4          0.2  Iris-setosa\n",
              "5           5.4          3.9           1.7          0.4  Iris-setosa\n",
              "6           4.6          3.4           1.4          0.3  Iris-setosa\n",
              "7           5.0          3.4           1.5          0.2  Iris-setosa\n",
              "8           4.4          2.9           1.4          0.2  Iris-setosa\n",
              "9           4.9          3.1           1.5          0.1  Iris-setosa"
            ],
            "text/html": [
              "\n",
              "  <div id=\"df-132b00f9-22d2-4d9b-9416-efd84a59ee7a\">\n",
              "    <div class=\"colab-df-container\">\n",
              "      <div>\n",
              "<style scoped>\n",
              "    .dataframe tbody tr th:only-of-type {\n",
              "        vertical-align: middle;\n",
              "    }\n",
              "\n",
              "    .dataframe tbody tr th {\n",
              "        vertical-align: top;\n",
              "    }\n",
              "\n",
              "    .dataframe thead th {\n",
              "        text-align: right;\n",
              "    }\n",
              "</style>\n",
              "<table border=\"1\" class=\"dataframe\">\n",
              "  <thead>\n",
              "    <tr style=\"text-align: right;\">\n",
              "      <th></th>\n",
              "      <th>sepal_length</th>\n",
              "      <th>sepal_width</th>\n",
              "      <th>petal_length</th>\n",
              "      <th>petal_width</th>\n",
              "      <th>target</th>\n",
              "    </tr>\n",
              "  </thead>\n",
              "  <tbody>\n",
              "    <tr>\n",
              "      <th>0</th>\n",
              "      <td>5.1</td>\n",
              "      <td>3.5</td>\n",
              "      <td>1.4</td>\n",
              "      <td>0.2</td>\n",
              "      <td>Iris-setosa</td>\n",
              "    </tr>\n",
              "    <tr>\n",
              "      <th>1</th>\n",
              "      <td>4.9</td>\n",
              "      <td>3.0</td>\n",
              "      <td>1.4</td>\n",
              "      <td>0.2</td>\n",
              "      <td>Iris-setosa</td>\n",
              "    </tr>\n",
              "    <tr>\n",
              "      <th>2</th>\n",
              "      <td>4.7</td>\n",
              "      <td>3.2</td>\n",
              "      <td>1.3</td>\n",
              "      <td>0.2</td>\n",
              "      <td>Iris-setosa</td>\n",
              "    </tr>\n",
              "    <tr>\n",
              "      <th>3</th>\n",
              "      <td>4.6</td>\n",
              "      <td>3.1</td>\n",
              "      <td>1.5</td>\n",
              "      <td>0.2</td>\n",
              "      <td>Iris-setosa</td>\n",
              "    </tr>\n",
              "    <tr>\n",
              "      <th>4</th>\n",
              "      <td>5.0</td>\n",
              "      <td>3.6</td>\n",
              "      <td>1.4</td>\n",
              "      <td>0.2</td>\n",
              "      <td>Iris-setosa</td>\n",
              "    </tr>\n",
              "    <tr>\n",
              "      <th>5</th>\n",
              "      <td>5.4</td>\n",
              "      <td>3.9</td>\n",
              "      <td>1.7</td>\n",
              "      <td>0.4</td>\n",
              "      <td>Iris-setosa</td>\n",
              "    </tr>\n",
              "    <tr>\n",
              "      <th>6</th>\n",
              "      <td>4.6</td>\n",
              "      <td>3.4</td>\n",
              "      <td>1.4</td>\n",
              "      <td>0.3</td>\n",
              "      <td>Iris-setosa</td>\n",
              "    </tr>\n",
              "    <tr>\n",
              "      <th>7</th>\n",
              "      <td>5.0</td>\n",
              "      <td>3.4</td>\n",
              "      <td>1.5</td>\n",
              "      <td>0.2</td>\n",
              "      <td>Iris-setosa</td>\n",
              "    </tr>\n",
              "    <tr>\n",
              "      <th>8</th>\n",
              "      <td>4.4</td>\n",
              "      <td>2.9</td>\n",
              "      <td>1.4</td>\n",
              "      <td>0.2</td>\n",
              "      <td>Iris-setosa</td>\n",
              "    </tr>\n",
              "    <tr>\n",
              "      <th>9</th>\n",
              "      <td>4.9</td>\n",
              "      <td>3.1</td>\n",
              "      <td>1.5</td>\n",
              "      <td>0.1</td>\n",
              "      <td>Iris-setosa</td>\n",
              "    </tr>\n",
              "  </tbody>\n",
              "</table>\n",
              "</div>\n",
              "      <button class=\"colab-df-convert\" onclick=\"convertToInteractive('df-132b00f9-22d2-4d9b-9416-efd84a59ee7a')\"\n",
              "              title=\"Convert this dataframe to an interactive table.\"\n",
              "              style=\"display:none;\">\n",
              "        \n",
              "  <svg xmlns=\"http://www.w3.org/2000/svg\" height=\"24px\"viewBox=\"0 0 24 24\"\n",
              "       width=\"24px\">\n",
              "    <path d=\"M0 0h24v24H0V0z\" fill=\"none\"/>\n",
              "    <path d=\"M18.56 5.44l.94 2.06.94-2.06 2.06-.94-2.06-.94-.94-2.06-.94 2.06-2.06.94zm-11 1L8.5 8.5l.94-2.06 2.06-.94-2.06-.94L8.5 2.5l-.94 2.06-2.06.94zm10 10l.94 2.06.94-2.06 2.06-.94-2.06-.94-.94-2.06-.94 2.06-2.06.94z\"/><path d=\"M17.41 7.96l-1.37-1.37c-.4-.4-.92-.59-1.43-.59-.52 0-1.04.2-1.43.59L10.3 9.45l-7.72 7.72c-.78.78-.78 2.05 0 2.83L4 21.41c.39.39.9.59 1.41.59.51 0 1.02-.2 1.41-.59l7.78-7.78 2.81-2.81c.8-.78.8-2.07 0-2.86zM5.41 20L4 18.59l7.72-7.72 1.47 1.35L5.41 20z\"/>\n",
              "  </svg>\n",
              "      </button>\n",
              "      \n",
              "  <style>\n",
              "    .colab-df-container {\n",
              "      display:flex;\n",
              "      flex-wrap:wrap;\n",
              "      gap: 12px;\n",
              "    }\n",
              "\n",
              "    .colab-df-convert {\n",
              "      background-color: #E8F0FE;\n",
              "      border: none;\n",
              "      border-radius: 50%;\n",
              "      cursor: pointer;\n",
              "      display: none;\n",
              "      fill: #1967D2;\n",
              "      height: 32px;\n",
              "      padding: 0 0 0 0;\n",
              "      width: 32px;\n",
              "    }\n",
              "\n",
              "    .colab-df-convert:hover {\n",
              "      background-color: #E2EBFA;\n",
              "      box-shadow: 0px 1px 2px rgba(60, 64, 67, 0.3), 0px 1px 3px 1px rgba(60, 64, 67, 0.15);\n",
              "      fill: #174EA6;\n",
              "    }\n",
              "\n",
              "    [theme=dark] .colab-df-convert {\n",
              "      background-color: #3B4455;\n",
              "      fill: #D2E3FC;\n",
              "    }\n",
              "\n",
              "    [theme=dark] .colab-df-convert:hover {\n",
              "      background-color: #434B5C;\n",
              "      box-shadow: 0px 1px 3px 1px rgba(0, 0, 0, 0.15);\n",
              "      filter: drop-shadow(0px 1px 2px rgba(0, 0, 0, 0.3));\n",
              "      fill: #FFFFFF;\n",
              "    }\n",
              "  </style>\n",
              "\n",
              "      <script>\n",
              "        const buttonEl =\n",
              "          document.querySelector('#df-132b00f9-22d2-4d9b-9416-efd84a59ee7a button.colab-df-convert');\n",
              "        buttonEl.style.display =\n",
              "          google.colab.kernel.accessAllowed ? 'block' : 'none';\n",
              "\n",
              "        async function convertToInteractive(key) {\n",
              "          const element = document.querySelector('#df-132b00f9-22d2-4d9b-9416-efd84a59ee7a');\n",
              "          const dataTable =\n",
              "            await google.colab.kernel.invokeFunction('convertToInteractive',\n",
              "                                                     [key], {});\n",
              "          if (!dataTable) return;\n",
              "\n",
              "          const docLinkHtml = 'Like what you see? Visit the ' +\n",
              "            '<a target=\"_blank\" href=https://colab.research.google.com/notebooks/data_table.ipynb>data table notebook</a>'\n",
              "            + ' to learn more about interactive tables.';\n",
              "          element.innerHTML = '';\n",
              "          dataTable['output_type'] = 'display_data';\n",
              "          await google.colab.output.renderOutput(dataTable, element);\n",
              "          const docLink = document.createElement('div');\n",
              "          docLink.innerHTML = docLinkHtml;\n",
              "          element.appendChild(docLink);\n",
              "        }\n",
              "      </script>\n",
              "    </div>\n",
              "  </div>\n",
              "  "
            ]
          },
          "metadata": {},
          "execution_count": 3
        }
      ],
      "source": [
        "iris_url = 'https://archive.ics.uci.edu/ml/machine-learning-databases/iris/iris.data'\n",
        "# Use read_csv to load the data. Make sure you get 150 examples!\n",
        "iris_df = pd.read_csv(iris_url, header=None)\n",
        "\n",
        "# Set the column names to\n",
        "# 'sepal_length', 'sepal_width', 'petal_length', 'petal_width', 'target'\n",
        "iris_df.columns = ['sepal_length', 'sepal_width', 'petal_length', 'petal_width', 'target']\n",
        "\n",
        "# Print the first 10 entries\n",
        "iris_df.head(10)"
      ]
    },
    {
      "cell_type": "code",
      "execution_count": null,
      "metadata": {
        "colab": {
          "base_uri": "https://localhost:8080/",
          "height": 297
        },
        "id": "e9dHQGslwvuc",
        "outputId": "72221963-33b1-4dfb-a9ec-b48799678fbb"
      },
      "outputs": [
        {
          "output_type": "execute_result",
          "data": {
            "text/plain": [
              "<matplotlib.axes._subplots.AxesSubplot at 0x7f8b51efe990>"
            ]
          },
          "metadata": {},
          "execution_count": 4
        },
        {
          "output_type": "display_data",
          "data": {
            "text/plain": [
              "<Figure size 432x288 with 1 Axes>"
            ],
            "image/png": "[encoded data removed]"
          },
          "metadata": {}
        }
      ],
      "source": [
        "unknown_df = pd.DataFrame(\n",
        "    [[1.5, 0.3, 'unknown'],\n",
        "     [4.5, 1.2, 'unknown'],\n",
        "     [5.1, 1.7, 'unknown'],\n",
        "     [5.5, 2.3, 'unknown']],\n",
        "     columns=['petal_length', 'petal_width', 'target'])\n",
        "\n",
        "sns.scatterplot(x='petal_length', y='petal_width', hue='target', data=iris_df)\n",
        "sns.scatterplot(x='petal_length', y='petal_width', color='gray', marker='v',\n",
        "                label='unknown', s=70, data=unknown_df)"
      ]
    },
    {
      "cell_type": "markdown",
      "metadata": {
        "id": "s2khewKZ33_w"
      },
      "source": [
        "Based on these two features, it is easy to distinguish iris setosa from the two remaining species. Yet iris versicolor and virginica remain mixed together. \n",
        "\n",
        "Looking closely at the plot, we might estimate the species of the selected unknown irises (gray triangles). For three of them the answer seems obvious – they belong in uniformly-colored areas covered by one species only. Yet unknown iris flower in (5.1, 1.7) is troublesome – it lays on the boundary of versicolor and virginica clusters. We can assume, that its species is the one of the closest one to it, coming from the training set (and so having a label). \n",
        "\n",
        "K-Nearest Neighbors method (http://en.wikipedia.org/wiki/K-nearest_neighbors_algorithm) solves the classification problem, i.e. sets class labels (species in case of irises) of a previously unseen sample by choosing the most common class among the top k neighbors of the sample in question (for instance according to the Euclidean distance). Thus, the k-Nearest Neighbors algorithm works as follows. For each unlabeled sample x:\n",
        "1. Find k nearest neighbors among the labeled samples.\n",
        "2. Set the most common label among them as label of x."
      ]
    },
    {
      "cell_type": "markdown",
      "metadata": {
        "id": "dpyfaeVg72jo"
      },
      "source": [
        "## Problem 1 kNN Iris [3p]"
      ]
    },
    {
      "cell_type": "markdown",
      "metadata": {
        "id": "F6sG0bxf33_y"
      },
      "source": [
        "### Implement the k-Nearest Neighbors algorithm [1p].\n",
        "\n",
        "Take advantage of matrix calculus rather than using for loops. (Although you will earn 0.5 points, if you will use for loops, but still provide a good classifier)\n",
        "\n",
        "**Tip:** What is computed by \\begin{equation} \\sqrt{(X - Y)^T (X - Y)} \\end{equation} when both X and Y are vectors?\n",
        "\n",
        "**Tip:** Try to use broadcasting (NumPy: http://docs.scipy.org/doc/numpy/user/basics.broadcasting.html) and built-ins sort, numpy.sort, numpy.argsort (sorting), scipy.stats.mode (choosing the most common element of the set)."
      ]
    },
    {
      "cell_type": "code",
      "execution_count": null,
      "metadata": {
        "id": "hKhbqAUTz5yy"
      },
      "outputs": [],
      "source": [
        "from scipy.spatial.distance import cdist\n",
        "import scipy\n",
        "\n",
        "def KNN(train_X, train_Y, test_X, ks, verbose=False):\n",
        "    \"\"\"\n",
        "    Compute predictions for various k\n",
        "    Args:\n",
        "        train_X: array of shape Ntrain x D\n",
        "        train_Y: array of shape Ntrain\n",
        "        test_X: array of shape Ntest x D\n",
        "        ks: list of integers\n",
        "    Returns:\n",
        "        preds: dict k: predictions for k\n",
        "    \"\"\"\n",
        "    # Cats data to float32\n",
        "    train_X = train_X.astype(np.float32)\n",
        "    test_X = test_X.astype(np.float32)\n",
        "\n",
        "    # Alloc space for results\n",
        "    preds = {}\n",
        "\n",
        "    if verbose:\n",
        "        print(\"Computing distances... \", end='')\n",
        "    #\n",
        "    # TODO: fill in an efficient distance matrix computation\n",
        "    #    \n",
        "\n",
        "    dists = np.sum(train_X**2, axis=1)[:, np.newaxis] + np.sum(test_X**2,\n",
        "                axis=1) - 2*np.dot(train_X, test_X.T)\n",
        "\n",
        "\n",
        "    # if verbose:\n",
        "    #     print(\"Sorting... \", end='')\n",
        "    \n",
        "    # # TODO: findes closest trainig points\n",
        "    # # Hint: use np.argsort\n",
        "    closest = np.argsort(dists, axis=0)\n",
        "\n",
        "    \n",
        "\n",
        "    if verbose:\n",
        "        print(\"Computing predictions...\", end='')\n",
        "    \n",
        "    targets = train_Y[closest]\n",
        "    #print(pd.DataFrame(targets[:k,:]).mode().to_numpy().reshape(-1,1))\n",
        "    for k in ks:\n",
        "        #calculate the dominating value among nearest neighbors by using mode function from pandas or sstats\n",
        "\n",
        "        preds[k] = sstats.mode(targets[:k:]).mode\n",
        "    if verbose:\n",
        "        print(\"Done\")\n",
        "    return preds"
      ]
    },
    {
      "cell_type": "markdown",
      "metadata": {
        "id": "PgqwAtLVKnrk"
      },
      "source": []
    },
    {
      "cell_type": "code",
      "execution_count": null,
      "metadata": {
        "colab": {
          "base_uri": "https://localhost:8080/"
        },
        "id": "RSiSLLke2K1r",
        "outputId": "0f2c7730-8c5d-4322-bb3f-9d41afa63f93"
      },
      "outputs": [
        {
          "output_type": "execute_result",
          "data": {
            "text/plain": [
              "{1: array([['Iris-setosa', 'Iris-versicolor', 'Iris-virginica',\n",
              "         'Iris-virginica']], dtype=object),\n",
              " 3: array([['Iris-setosa', 'Iris-versicolor', 'Iris-versicolor',\n",
              "         'Iris-virginica']], dtype=object),\n",
              " 5: array([['Iris-setosa', 'Iris-versicolor', 'Iris-virginica',\n",
              "         'Iris-virginica']], dtype=object),\n",
              " 7: array([['Iris-setosa', 'Iris-versicolor', 'Iris-virginica',\n",
              "         'Iris-virginica']], dtype=object)}"
            ]
          },
          "metadata": {},
          "execution_count": 6
        }
      ],
      "source": [
        "# Now classify the 4 unknown points\n",
        "iris_x = np.array(iris_df[['petal_length', 'petal_width']])\n",
        "iris_y = np.array(iris_df['target'])\n",
        "\n",
        "unknown_x = np.array(unknown_df[['petal_length', 'petal_width']])\n",
        "\n",
        "KNN(iris_x, iris_y, unknown_x, [1, 3, 5, 7])"
      ]
    },
    {
      "cell_type": "markdown",
      "metadata": {
        "id": "wZ3Ef8Np7ZU8"
      },
      "source": [
        "### Plot the Decision boundary [1p]\n",
        "\n",
        "\n",
        "Use meshgrid to generate the points in the space spanned by data.\n",
        "Then map the classes to numbers 0, 1, 2 and make a contour plot with the\n",
        "decision boundary."
      ]
    },
    {
      "cell_type": "code",
      "execution_count": null,
      "metadata": {
        "colab": {
          "base_uri": "https://localhost:8080/",
          "height": 1000
        },
        "id": "w3aeNd0E3r8w",
        "outputId": "a1ca32f1-e631-47ee-9f07-c25205d94fe4"
      },
      "outputs": [
        {
          "output_type": "display_data",
          "data": {
            "text/plain": [
              "<Figure size 432x288 with 1 Axes>"
            ],
            "image/png": "[encoded data removed]"
          },
          "metadata": {}
        },
        {
          "output_type": "display_data",
          "data": {
            "text/plain": [
              "<Figure size 432x288 with 1 Axes>"
            ],
            "image/png": "[encoded data removed]"
          },
          "metadata": {}
        },
        {
          "output_type": "display_data",
          "data": {
            "text/plain": [
              "<Figure size 432x288 with 1 Axes>"
            ],
            "image/png": "[encoded data removed]"
          },
          "metadata": {}
        },
        {
          "output_type": "display_data",
          "data": {
            "text/plain": [
              "<Figure size 432x288 with 1 Axes>"
            ],
            "image/png": "[encoded data removed]"
          },
          "metadata": {}
        }
      ],
      "source": [
        "iris_x = np.array(iris_df[['petal_length', 'petal_width']])\n",
        "iris_y = np.array(iris_df['target'])\n",
        "\n",
        "\n",
        "mesh_x, mesh_y = np.meshgrid(np.linspace(1,7, 150), np.linspace(0, 2.5, 150))\n",
        "\n",
        "#use np.unique with suitable options to map the class names to numbers\n",
        "\n",
        "target_names, iris_y_ids = np.unique(iris_y, return_inverse = True)\n",
        "\n",
        "mesh_data = np.hstack([mesh_x.reshape(-1, 1), mesh_y.reshape(-1, 1)])\n",
        "\n",
        "preds = KNN(iris_x, iris_y_ids, mesh_data, [1, 3, 5, 7])\n",
        "\n",
        "for k, preds_k in preds.items():\n",
        "    \n",
        "    plt.figure()\n",
        "    plt.title(f\"Decision boundary for k={k}\")\n",
        "    plt.contourf(mesh_x, mesh_y, preds_k[0].reshape(150,150), levels=2)\n",
        "    plt.scatter(iris_x[:, 0], iris_x[:, 1], c=iris_y_ids, edgecolors='black')\n"
      ]
    },
    {
      "cell_type": "markdown",
      "metadata": {
        "id": "1iZtHs5A33_z"
      },
      "source": [
        "### Estimate performance for various ks [1p]\n",
        "Consider the following experiment (bootsrap error estimation):\n",
        "1. We sample **with replacement** a dataset equal in size to the amount of data we have (i.e. for Iris, we pick 150 examples). This forms a trainign set. Since we have sampled with replacement, some samples were picked multiple times, and some were left out. Form a test set from the remaining ones.\n",
        "2. Based on the training set, we use the k-NN algorithm to predict the labels on the test set.\n",
        "3. We then check the number of errors and write it down.\n",
        "\n",
        "Do this 500 times for k ∈ {1, 3, 5, ..., 19}. Plot a function of the average number of errors as the function of k. It should be similar to one of the plots below."
      ]
    },
    {
      "cell_type": "code",
      "execution_count": null,
      "metadata": {
        "id": "24FeneG8A4Hi"
      },
      "outputs": [],
      "source": [
        "#TODO: write a function to compute error rates\n",
        "def err_rates(preds, test_Y):\n",
        "    ret = {}\n",
        "    for k, preds_k in  preds.items():\n",
        "        # TODO: fill in error count computation\n",
        "\n",
        "        ret[k] = np.sum(preds_k!=test_Y)/test_Y.shape[0]\n",
        "    return ret"
      ]
    },
    {
      "cell_type": "code",
      "execution_count": null,
      "metadata": {
        "colab": {
          "base_uri": "https://localhost:8080/",
          "height": 610,
          "referenced_widgets": [
            "4c1d9d9d2c7f4726ad90974067b9e5a3",
            "559c2b300ae0493181a45433d657555f",
            "3213499608e143ab87f1a3c8735592b3",
            "115892b79f024ad28133e444328760c9",
            "5a42deacab394e9f9242cae2f8332a47",
            "9259de99752045d29fcbf158ff370514",
            "a9e723f7306e418cab8b355f757de2a0",
            "4b3c524c94f34aacbcfca49bd021d4d4",
            "7eb73516261840438c609ad53a1cc2d4",
            "61f9d83025a541dd9385b9bd42d53c30",
            "4ba7518dddd24e2ebef1049c09888ff6"
          ]
        },
        "id": "7U4ejQYy1BRT",
        "outputId": "ee1c5e85-2a8b-4f7e-c835-4c288103a5e9"
      },
      "outputs": [
        {
          "output_type": "stream",
          "name": "stdout",
          "text": [
            "150\n"
          ]
        },
        {
          "output_type": "display_data",
          "data": {
            "text/plain": [
              "  0%|          | 0/1000 [00:00<?, ?it/s]"
            ],
            "application/vnd.jupyter.widget-view+json": {
              "version_major": 2,
              "version_minor": 0,
              "model_id": "4c1d9d9d2c7f4726ad90974067b9e5a3"
            }
          },
          "metadata": {}
        },
        {
          "output_type": "execute_result",
          "data": {
            "text/plain": [
              "<matplotlib.axes._subplots.AxesSubplot at 0x7f8b4edc2110>"
            ]
          },
          "metadata": {},
          "execution_count": 9
        },
        {
          "output_type": "display_data",
          "data": {
            "text/plain": [
              "<Figure size 432x288 with 1 Axes>"
            ],
            "image/png": "[encoded data removed]"
          },
          "metadata": {}
        },
        {
          "output_type": "display_data",
          "data": {
            "text/plain": [
              "<Figure size 432x288 with 1 Axes>"
            ],
            "image/png": "[encoded data removed]"
          },
          "metadata": {}
        }
      ],
      "source": [
        "iris_x = np.array(iris_df[['sepal_length', 'sepal_width', 'petal_length', 'petal_width']])\n",
        "iris_y = np.array(iris_df['target'])\n",
        "\n",
        "print(len(iris_x))\n",
        "\n",
        "ks = range(1, 30, 2)\n",
        "results = []\n",
        "\n",
        "for _rep in tqdm(range(1000)):\n",
        "    #TODO\n",
        "    # Use np.random.randint to get training indices\n",
        "    # The find all unselected indices to form a test set \n",
        "    train_idx = np.random.randint(0, 150, 150)\n",
        "    test_idx = [_ for _ in range(150) if _ not in train_idx]\n",
        "\n",
        "    #TODO: apply your kNN classifier to data subset\n",
        "    preds = KNN(iris_x[train_idx], iris_y[train_idx], iris_x[test_idx], ks)\n",
        "    \n",
        "    errs = err_rates(preds, iris_y[test_idx])\n",
        "    \n",
        "    for k, errs_k in errs.items():\n",
        "        results.append({'K':k, 'err_rate': errs_k})\n",
        "\n",
        "# results_df will be a data_frame in long format\n",
        "results_df = pd.DataFrame(results)\n",
        "\n",
        "plt.figure()\n",
        "sns.regplot(x='K', y=results_df.err_rate, data=results_df, x_estimator=np.mean, lowess=True)\n",
        "plt.figure()\n",
        "sns.regplot(x='K', y=results_df.err_rate, data=results_df, x_estimator=np.mean, order=2)\n"
      ]
    },
    {
      "cell_type": "markdown",
      "metadata": {
        "id": "ozuWZxLXXxqa"
      },
      "source": [
        "## Problem 2 kNN leave-one-out [2p]"
      ]
    },
    {
      "cell_type": "markdown",
      "metadata": {
        "id": "f7C17WB7aEIo"
      },
      "source": [
        "Implement the k-NN algorithm with a leave-one-out error estimation \n",
        "\n",
        "**Hint**: except for couple of lines the code for the KNN_loo function is very much the same as in previous Problem\n",
        "\n",
        "Then perform two experiments:\n",
        "1. plot the leave-one-out error rate as a function of $K$\n",
        "2. choose K=15, plot the leave-one-out error rate as a function of training dataset size. For best results, repeat the experiment 100 times with different permutations of the dataset."
      ]
    },
    {
      "cell_type": "code",
      "execution_count": null,
      "metadata": {
        "id": "uhx4UjY4X3Sz"
      },
      "outputs": [],
      "source": [
        "def KNN_loo(train_X, train_Y, ks, limit=None, verbose=False):\n",
        "    # Cats data to float32\n",
        "    train_X = train_X.astype(np.float32)\n",
        "    test_X = train_X.astype(np.float32)\n",
        "\n",
        "    # Alloc space for results\n",
        "    preds = {}\n",
        "\n",
        "    if verbose:\n",
        "        print(\"Computing distances... \", end='')\n",
        "    dists = np.sum(train_X**2, axis=1)[:, np.newaxis] + np.sum(test_X**2,\n",
        "                axis=1) - 2*np.dot(train_X, test_X.T)\n",
        "\n",
        "    closest = np.argsort(dists, axis=0)\n",
        "\n",
        "    \n",
        "\n",
        "    if verbose:\n",
        "        print(\"Computing predictions...\", end='')\n",
        "    \n",
        "    targets = train_Y[closest]\n",
        "    for k in ks:\n",
        "        preds[k] = sstats.mode(targets[1:k+1:]).mode #First guess is always perfect becouse I don't delete it from testing so i won't include it\n",
        "    if verbose:\n",
        "        print(\"Done\")\n",
        "    return preds"
      ]
    },
    {
      "cell_type": "code",
      "execution_count": null,
      "metadata": {
        "colab": {
          "base_uri": "https://localhost:8080/",
          "height": 296
        },
        "id": "uhRGLfUmX4Op",
        "outputId": "8b2109a2-4e4d-4ee9-bc2a-6a04c91520ac"
      },
      "outputs": [
        {
          "output_type": "execute_result",
          "data": {
            "text/plain": [
              "<matplotlib.axes._subplots.AxesSubplot at 0x7f8b4ee1b7d0>"
            ]
          },
          "metadata": {},
          "execution_count": 19
        },
        {
          "output_type": "display_data",
          "data": {
            "text/plain": [
              "<Figure size 432x288 with 1 Axes>"
            ],
            "image/png": "[encoded data removed]"
          },
          "metadata": {}
        }
      ],
      "source": [
        "iris_x = np.array(iris_df[['sepal_length', 'sepal_width', 'petal_length', 'petal_width']])\n",
        "iris_y = np.array(iris_df['target'])\n",
        "\n",
        "preds = KNN_loo(iris_x, iris_y, range(1, 30, 2))\n",
        "    \n",
        "errs = err_rates(preds, iris_y)\n",
        "\n",
        "results = []\n",
        "\n",
        "for k, errs_k in errs.items():\n",
        "    results.append({'K':k, 'err_rate': errs_k})\n",
        "\n",
        "results_df = pd.DataFrame(results)\n",
        "\n",
        "plt.figure()\n",
        "sns.regplot(x='K', y=results_df.err_rate, data=results_df, x_estimator=np.mean, order=2)"
      ]
    },
    {
      "cell_type": "code",
      "execution_count": null,
      "metadata": {
        "colab": {
          "base_uri": "https://localhost:8080/",
          "height": 282
        },
        "id": "XYGjasc_Y4Ac",
        "outputId": "9bf60c36-2852-4933-d107-fe39c41a0a7b"
      },
      "outputs": [
        {
          "output_type": "execute_result",
          "data": {
            "text/plain": [
              "<matplotlib.collections.PathCollection at 0x7f8b4dd72cd0>"
            ]
          },
          "metadata": {},
          "execution_count": 12
        },
        {
          "output_type": "display_data",
          "data": {
            "text/plain": [
              "<Figure size 432x288 with 1 Axes>"
            ],
            "image/png": "[encoded data removed]"
          },
          "metadata": {}
        }
      ],
      "source": [
        "x_axis = []\n",
        "y_axis = []\n",
        "\n",
        "for i in range(101):\n",
        "  for size in range(10, 151, 10):\n",
        "    indexes = np.random.choice(iris_x.shape[0], size, replace=False)\n",
        "    preds = KNN_loo(iris_x[indexes], iris_y[indexes], [15])\n",
        "    errs = err_rates(preds, iris_y[indexes])\n",
        "    for k, errs_k in errs.items():\n",
        "      x_axis.append(size)\n",
        "      y_axis.append(errs_k)\n",
        "    \n",
        "plt.figure()\n",
        "plt.scatter(x_axis, y_axis)"
      ]
    },
    {
      "cell_type": "markdown",
      "metadata": {
        "id": "A86GnZpa33_0"
      },
      "source": [
        "## Problem 3 kNN MNIST [2p] \n",
        "\n",
        "Apply the K-Nearest Neighbors (K-NN) algorithm to the MNIST dataset. \n",
        "\n",
        "The MNIST (http://yann.lecun.com/exdb/mnist/) dataset consists of normalized (centered and stretched) scans of hand-written digits. Specifically, each element of the dataset is a 28 × 28 grayscale image, thus having 764 8-bit pixels. \n",
        "\n",
        "1. Display a few objects from each of the classes, paying attention to aesthetics and clarity of your presentation. **Note:** You already downloaded the dataset in \"Setup\" section. Please use the code below to get started.\n",
        "\n",
        "2. **[2p]** Apply a k-NN classifier to the MNIST dataset. First, divide the training set into two parts, which we will call training and validation. On MNIST use the first 50000 samples for training and the last 10000 for validation. Then find the optimal number of neighbors by assessing the accuracy on the validation set. You do not need to repeat this experiment multiple times. Finally, compute the accuracy on the test set obtained with the best previously chosen number of neighbors. On MNIST you should get about 3% errors. Pick a few mislabeled samples from the test dataset and plot them along with the correct ones. **Note:**\n",
        "  * MNIST is much larger than the Iris dataset. A good implementation may need a few minutes depending on your runtime type. Please optimize your algorithm:\n",
        "  * Compute the distances only once, then test for different values of k.\n",
        "  * Use vectorized expressions to compute the distance. It is possible to compute all distances between the training and testing points in one expression. Hint: think about the vectorized expression \\begin{equation}(X - Y)^T (X - Y)\\end{equation}\n",
        "  * You can use single precision numbers in computation.\n",
        "  * If your code is taking a long time to execute, please save its results before the lab session.\n",
        "\n",
        "**Note:** in NumPy, matrices have its own data type (dtype), which is retained during\n",
        "calculations. Please pay attention to it. I particular, do not subtract values of data types not\n",
        "having the sign bit, do not divide integers, etc. Results of such operations will not be\n",
        "automatically casted to types having the required precision."
      ]
    },
    {
      "cell_type": "code",
      "execution_count": null,
      "metadata": {
        "colab": {
          "base_uri": "https://localhost:8080/"
        },
        "id": "ipuqv4vwISwI",
        "outputId": "7266f3a4-919c-4528-863b-4337529e5cdf"
      },
      "outputs": [
        {
          "output_type": "stream",
          "name": "stdout",
          "text": [
            "Downloading...\n",
            "From: https://drive.google.com/uc?id=1QPaC3IKB_5tX6yIZgRgkpcqFrfVqPTXU\n",
            "To: /content/mnist.npz\n",
            "100% 55.4M/55.4M [00:00<00:00, 257MB/s]\n"
          ]
        }
      ],
      "source": [
        "# Please note that this code needs only to be run in a fresh runtime.\n",
        "# However, it can be rerun afterwards too.\n",
        "!pip install -q gdown httpimport\n",
        "![ -e mnist.npz ] || gdown 'https://drive.google.com/uc?id=1QPaC3IKB_5tX6yIZgRgkpcqFrfVqPTXU' -O mnist.npz"
      ]
    },
    {
      "cell_type": "code",
      "execution_count": null,
      "metadata": {
        "id": "3AvAeiDN33_1"
      },
      "outputs": [],
      "source": [
        "with np.load('mnist.npz') as data:\n",
        "    mnist_full_train_data_uint8 = data['train_data']\n",
        "    mnist_full_train_labels_int64 = data['train_labels']\n",
        "    mnist_test_data_uint8 = data['test_data']\n",
        "    mnist_test_labels_int64 = data['test_labels']\n",
        "        \n",
        "# Split train data into train and validation sets\n",
        "mnist_train_data_uint8 = mnist_full_train_data_uint8[:50000]\n",
        "mnist_train_labels_int64 = mnist_full_train_labels_int64[:50000]\n",
        "mnist_valid_data_uint8 = mnist_full_train_data_uint8[50000:]\n",
        "mnist_valid_labels_int64 = mnist_full_train_labels_int64[50000:]"
      ]
    },
    {
      "cell_type": "code",
      "execution_count": null,
      "metadata": {
        "colab": {
          "base_uri": "https://localhost:8080/",
          "height": 248
        },
        "id": "aenFc3L633_4",
        "outputId": "9564854f-3831-4435-fc32-2cac1bd4e11f"
      },
      "outputs": [
        {
          "output_type": "display_data",
          "data": {
            "text/plain": [
              "<Figure size 432x288 with 1 Axes>"
            ],
            "image/png": "[encoded data removed]"
          },
          "metadata": {}
        }
      ],
      "source": [
        "plot_mat(mnist_train_data_uint8[:20, None], cmap='gray')"
      ]
    },
    {
      "cell_type": "code",
      "execution_count": null,
      "metadata": {
        "id": "ZK46uiW4-Yox"
      },
      "outputs": [],
      "source": [
        "# MNIST is large.\n",
        "# Implement a batched KNN classifier, which processes the test data in small batches\n",
        "# and returns the error rates\n",
        "\n",
        "# The code should not run for more than a couple of minutes on the Colab runtime, \n",
        "# If it is slower, optimize the distance computation in KNN\n",
        "\n",
        "def batched_KNN(train_X, train_Y, test_X, ks, verbose=False, batch_size=200):\n",
        "    all_preds = {k: [] for k in ks}\n",
        "    for i in tqdm(range(0, test_X.shape[0], batch_size)):\n",
        "        batch_X = test_X[i:i + batch_size]\n",
        "        \n",
        "        if(verbose):\n",
        "            print(\"Batch {:d}\".format(i))\n",
        "        # TODO: run KNN on the batch and save the predictions\n",
        "        for k in all_preds.keys():\n",
        "            preds = KNN(train_X, train_Y, batch_X, ks)\n",
        "        # TODO: combine predictions from batches\n",
        "            all_preds[k] = np.concatenate((all_preds[k], preds[k][0]))\n",
        "    return all_preds"
      ]
    },
    {
      "cell_type": "code",
      "execution_count": null,
      "metadata": {
        "colab": {
          "base_uri": "https://localhost:8080/",
          "height": 314,
          "referenced_widgets": [
            "724d9b2e630a49c3aec74d5d7cab7410",
            "b97b728181d9488e970350e9be38dede",
            "7a2c9f9c584d4a21b77026957635cffc",
            "5a38857d8cac48e08be53d9f0b79f6dd",
            "f2732a90dd8947879f77da6b7b54966a",
            "7aa1713b1a664aa8a7c1ce9809f0ff38",
            "6b0f4cdd1d514af2952df99414727ed4",
            "2ef7ae62f94a4a68a6321d71ace15fc6",
            "c7a5159184274061b8621af9a43b66d0",
            "0a4a160dbba14e7fa7033478a1741bb0",
            "e789b506fd614e2090e0dfdc7e3b4bf0"
          ]
        },
        "id": "OZB49qMMCP9i",
        "outputId": "90dd4d27-2b0d-4103-a46c-9452f2039de9"
      },
      "outputs": [
        {
          "output_type": "display_data",
          "data": {
            "text/plain": [
              "  0%|          | 0/50 [00:00<?, ?it/s]"
            ],
            "application/vnd.jupyter.widget-view+json": {
              "version_major": 2,
              "version_minor": 0,
              "model_id": "724d9b2e630a49c3aec74d5d7cab7410"
            }
          },
          "metadata": {}
        },
        {
          "output_type": "execute_result",
          "data": {
            "text/plain": [
              "[<matplotlib.lines.Line2D at 0x7f8b4e025c90>]"
            ]
          },
          "metadata": {},
          "execution_count": 17
        },
        {
          "output_type": "display_data",
          "data": {
            "text/plain": [
              "<Figure size 432x288 with 1 Axes>"
            ],
            "image/png": "[encoded data removed]"
          },
          "metadata": {}
        }
      ],
      "source": [
        "# Now find the best k on the validation set\n",
        "ks = [1, 3, 5, 7, 9]\n",
        "mnist_validation_preds = batched_KNN(\n",
        "    mnist_train_data_uint8.astype('float32').reshape(-1, 28*28), mnist_train_labels_int64,\n",
        "    mnist_valid_data_uint8.astype('float32').reshape(-1, 28*28),\n",
        "    ks)\n",
        "\n",
        "mnist_validation_errs = err_rates(mnist_validation_preds, mnist_valid_labels_int64)\n",
        "plt.plot(ks, [mnist_validation_errs[k] for k in ks])"
      ]
    },
    {
      "cell_type": "code",
      "execution_count": null,
      "metadata": {
        "colab": {
          "base_uri": "https://localhost:8080/",
          "height": 101,
          "referenced_widgets": [
            "69778c6573b24c76b7e901e4c289ab9c",
            "c71dd3a1be7f433e85fa969a5e76ef76",
            "f6783702b4804d939b6a2c149615441a",
            "1ec168cd3f8a477da50006627e8bcf6c",
            "bcd9a0b2a8794a0a82607fcbe1307704",
            "c7bb91d35e4e4bbfbc5ed254acbfe99b",
            "95f23a2d74924abd9f4fa35b30d20640",
            "27f9a858c5b94d059cd301f9df0700b5",
            "eefa38fe01b44f358218a162fa561897",
            "f9d71fc610ad47c691fc1567d755c9ac",
            "b535480ae8c943adbce53b09fa2e3a55"
          ]
        },
        "id": "l5j4eGVN34AR",
        "outputId": "d7999f76-01d1-4ab3-e5c4-e0b2f6d28622"
      },
      "outputs": [
        {
          "output_type": "display_data",
          "data": {
            "text/plain": [
              "  0%|          | 0/50 [00:00<?, ?it/s]"
            ],
            "application/vnd.jupyter.widget-view+json": {
              "version_major": 2,
              "version_minor": 0,
              "model_id": "69778c6573b24c76b7e901e4c289ab9c"
            }
          },
          "metadata": {}
        },
        {
          "output_type": "stream",
          "name": "stdout",
          "text": [
            "\n",
            "\n",
            "When k=3 the test error rate is 2.9%%\n"
          ]
        }
      ],
      "source": [
        "# Now use the best k to compute the test error\n",
        "\n",
        "best_K = 3\n",
        "\n",
        "mnist_test_preds = batched_KNN(\n",
        "    mnist_full_train_data_uint8.astype('float32').reshape(-1, 28*28), \n",
        "    mnist_full_train_labels_int64,\n",
        "    mnist_test_data_uint8.astype('float32').reshape(-1, 28*28), \n",
        "    [best_K])\n",
        "\n",
        "mnist_test_errs = err_rates(mnist_test_preds, mnist_test_labels_int64)\n",
        "print(f\"\\n\\nWhen k={best_K} the test error rate is {mnist_test_errs[best_K] * 100.0:.1f}%%\")"
      ]
    }
  ],
  "metadata": {
    "colab": {
      "provenance": [],
      "include_colab_link": true
    },
    "kernelspec": {
      "display_name": "ml_uwr venv",
      "language": "python",
      "name": "other-env"
    },
    "language_info": {
      "codemirror_mode": {
        "name": "ipython",
        "version": 3
      },
      "file_extension": ".py",
      "mimetype": "text/x-python",
      "name": "python",
      "nbconvert_exporter": "python",
      "pygments_lexer": "ipython3",
      "version": "3.8.9"
    },
    "widgets": {
      "application/vnd.jupyter.widget-state+json": {
        "4c1d9d9d2c7f4726ad90974067b9e5a3": {
          "model_module": "@jupyter-widgets/controls",
          "model_name": "HBoxModel",
          "model_module_version": "1.5.0",
          "state": {
            "_dom_classes": [],
            "_model_module": "@jupyter-widgets/controls",
            "_model_module_version": "1.5.0",
            "_model_name": "HBoxModel",
            "_view_count": null,
            "_view_module": "@jupyter-widgets/controls",
            "_view_module_version": "1.5.0",
            "_view_name": "HBoxView",
            "box_style": "",
            "children": [
              "IPY_MODEL_559c2b300ae0493181a45433d657555f",
              "IPY_MODEL_3213499608e143ab87f1a3c8735592b3",
              "IPY_MODEL_115892b79f024ad28133e444328760c9"
            ],
            "layout": "IPY_MODEL_5a42deacab394e9f9242cae2f8332a47"
          }
        },
        "559c2b300ae0493181a45433d657555f": {
          "model_module": "@jupyter-widgets/controls",
          "model_name": "HTMLModel",
          "model_module_version": "1.5.0",
          "state": {
            "_dom_classes": [],
            "_model_module": "@jupyter-widgets/controls",
            "_model_module_version": "1.5.0",
            "_model_name": "HTMLModel",
            "_view_count": null,
            "_view_module": "@jupyter-widgets/controls",
            "_view_module_version": "1.5.0",
            "_view_name": "HTMLView",
            "description": "",
            "description_tooltip": null,
            "layout": "IPY_MODEL_9259de99752045d29fcbf158ff370514",
            "placeholder": "​",
            "style": "IPY_MODEL_a9e723f7306e418cab8b355f757de2a0",
            "value": "100%"
          }
        },
        "3213499608e143ab87f1a3c8735592b3": {
          "model_module": "@jupyter-widgets/controls",
          "model_name": "FloatProgressModel",
          "model_module_version": "1.5.0",
          "state": {
            "_dom_classes": [],
            "_model_module": "@jupyter-widgets/controls",
            "_model_module_version": "1.5.0",
            "_model_name": "FloatProgressModel",
            "_view_count": null,
            "_view_module": "@jupyter-widgets/controls",
            "_view_module_version": "1.5.0",
            "_view_name": "ProgressView",
            "bar_style": "success",
            "description": "",
            "description_tooltip": null,
            "layout": "IPY_MODEL_4b3c524c94f34aacbcfca49bd021d4d4",
            "max": 1000,
            "min": 0,
            "orientation": "horizontal",
            "style": "IPY_MODEL_7eb73516261840438c609ad53a1cc2d4",
            "value": 1000
          }
        },
        "115892b79f024ad28133e444328760c9": {
          "model_module": "@jupyter-widgets/controls",
          "model_name": "HTMLModel",
          "model_module_version": "1.5.0",
          "state": {
            "_dom_classes": [],
            "_model_module": "@jupyter-widgets/controls",
            "_model_module_version": "1.5.0",
            "_model_name": "HTMLModel",
            "_view_count": null,
            "_view_module": "@jupyter-widgets/controls",
            "_view_module_version": "1.5.0",
            "_view_name": "HTMLView",
            "description": "",
            "description_tooltip": null,
            "layout": "IPY_MODEL_61f9d83025a541dd9385b9bd42d53c30",
            "placeholder": "​",
            "style": "IPY_MODEL_4ba7518dddd24e2ebef1049c09888ff6",
            "value": " 1000/1000 [00:38&lt;00:00, 30.25it/s]"
          }
        },
        "5a42deacab394e9f9242cae2f8332a47": {
          "model_module": "@jupyter-widgets/base",
          "model_name": "LayoutModel",
          "model_module_version": "1.2.0",
          "state": {
            "_model_module": "@jupyter-widgets/base",
            "_model_module_version": "1.2.0",
            "_model_name": "LayoutModel",
            "_view_count": null,
            "_view_module": "@jupyter-widgets/base",
            "_view_module_version": "1.2.0",
            "_view_name": "LayoutView",
            "align_content": null,
            "align_items": null,
            "align_self": null,
            "border": null,
            "bottom": null,
            "display": null,
            "flex": null,
            "flex_flow": null,
            "grid_area": null,
            "grid_auto_columns": null,
            "grid_auto_flow": null,
            "grid_auto_rows": null,
            "grid_column": null,
            "grid_gap": null,
            "grid_row": null,
            "grid_template_areas": null,
            "grid_template_columns": null,
            "grid_template_rows": null,
            "height": null,
            "justify_content": null,
            "justify_items": null,
            "left": null,
            "margin": null,
            "max_height": null,
            "max_width": null,
            "min_height": null,
            "min_width": null,
            "object_fit": null,
            "object_position": null,
            "order": null,
            "overflow": null,
            "overflow_x": null,
            "overflow_y": null,
            "padding": null,
            "right": null,
            "top": null,
            "visibility": null,
            "width": null
          }
        },
        "9259de99752045d29fcbf158ff370514": {
          "model_module": "@jupyter-widgets/base",
          "model_name": "LayoutModel",
          "model_module_version": "1.2.0",
          "state": {
            "_model_module": "@jupyter-widgets/base",
            "_model_module_version": "1.2.0",
            "_model_name": "LayoutModel",
            "_view_count": null,
            "_view_module": "@jupyter-widgets/base",
            "_view_module_version": "1.2.0",
            "_view_name": "LayoutView",
            "align_content": null,
            "align_items": null,
            "align_self": null,
            "border": null,
            "bottom": null,
            "display": null,
            "flex": null,
            "flex_flow": null,
            "grid_area": null,
            "grid_auto_columns": null,
            "grid_auto_flow": null,
            "grid_auto_rows": null,
            "grid_column": null,
            "grid_gap": null,
            "grid_row": null,
            "grid_template_areas": null,
            "grid_template_columns": null,
            "grid_template_rows": null,
            "height": null,
            "justify_content": null,
            "justify_items": null,
            "left": null,
            "margin": null,
            "max_height": null,
            "max_width": null,
            "min_height": null,
            "min_width": null,
            "object_fit": null,
            "object_position": null,
            "order": null,
            "overflow": null,
            "overflow_x": null,
            "overflow_y": null,
            "padding": null,
            "right": null,
            "top": null,
            "visibility": null,
            "width": null
          }
        },
        "a9e723f7306e418cab8b355f757de2a0": {
          "model_module": "@jupyter-widgets/controls",
          "model_name": "DescriptionStyleModel",
          "model_module_version": "1.5.0",
          "state": {
            "_model_module": "@jupyter-widgets/controls",
            "_model_module_version": "1.5.0",
            "_model_name": "DescriptionStyleModel",
            "_view_count": null,
            "_view_module": "@jupyter-widgets/base",
            "_view_module_version": "1.2.0",
            "_view_name": "StyleView",
            "description_width": ""
          }
        },
        "4b3c524c94f34aacbcfca49bd021d4d4": {
          "model_module": "@jupyter-widgets/base",
          "model_name": "LayoutModel",
          "model_module_version": "1.2.0",
          "state": {
            "_model_module": "@jupyter-widgets/base",
            "_model_module_version": "1.2.0",
            "_model_name": "LayoutModel",
            "_view_count": null,
            "_view_module": "@jupyter-widgets/base",
            "_view_module_version": "1.2.0",
            "_view_name": "LayoutView",
            "align_content": null,
            "align_items": null,
            "align_self": null,
            "border": null,
            "bottom": null,
            "display": null,
            "flex": null,
            "flex_flow": null,
            "grid_area": null,
            "grid_auto_columns": null,
            "grid_auto_flow": null,
            "grid_auto_rows": null,
            "grid_column": null,
            "grid_gap": null,
            "grid_row": null,
            "grid_template_areas": null,
            "grid_template_columns": null,
            "grid_template_rows": null,
            "height": null,
            "justify_content": null,
            "justify_items": null,
            "left": null,
            "margin": null,
            "max_height": null,
            "max_width": null,
            "min_height": null,
            "min_width": null,
            "object_fit": null,
            "object_position": null,
            "order": null,
            "overflow": null,
            "overflow_x": null,
            "overflow_y": null,
            "padding": null,
            "right": null,
            "top": null,
            "visibility": null,
            "width": null
          }
        },
        "7eb73516261840438c609ad53a1cc2d4": {
          "model_module": "@jupyter-widgets/controls",
          "model_name": "ProgressStyleModel",
          "model_module_version": "1.5.0",
          "state": {
            "_model_module": "@jupyter-widgets/controls",
            "_model_module_version": "1.5.0",
            "_model_name": "ProgressStyleModel",
            "_view_count": null,
            "_view_module": "@jupyter-widgets/base",
            "_view_module_version": "1.2.0",
            "_view_name": "StyleView",
            "bar_color": null,
            "description_width": ""
          }
        },
        "61f9d83025a541dd9385b9bd42d53c30": {
          "model_module": "@jupyter-widgets/base",
          "model_name": "LayoutModel",
          "model_module_version": "1.2.0",
          "state": {
            "_model_module": "@jupyter-widgets/base",
            "_model_module_version": "1.2.0",
            "_model_name": "LayoutModel",
            "_view_count": null,
            "_view_module": "@jupyter-widgets/base",
            "_view_module_version": "1.2.0",
            "_view_name": "LayoutView",
            "align_content": null,
            "align_items": null,
            "align_self": null,
            "border": null,
            "bottom": null,
            "display": null,
            "flex": null,
            "flex_flow": null,
            "grid_area": null,
            "grid_auto_columns": null,
            "grid_auto_flow": null,
            "grid_auto_rows": null,
            "grid_column": null,
            "grid_gap": null,
            "grid_row": null,
            "grid_template_areas": null,
            "grid_template_columns": null,
            "grid_template_rows": null,
            "height": null,
            "justify_content": null,
            "justify_items": null,
            "left": null,
            "margin": null,
            "max_height": null,
            "max_width": null,
            "min_height": null,
            "min_width": null,
            "object_fit": null,
            "object_position": null,
            "order": null,
            "overflow": null,
            "overflow_x": null,
            "overflow_y": null,
            "padding": null,
            "right": null,
            "top": null,
            "visibility": null,
            "width": null
          }
        },
        "4ba7518dddd24e2ebef1049c09888ff6": {
          "model_module": "@jupyter-widgets/controls",
          "model_name": "DescriptionStyleModel",
          "model_module_version": "1.5.0",
          "state": {
            "_model_module": "@jupyter-widgets/controls",
            "_model_module_version": "1.5.0",
            "_model_name": "DescriptionStyleModel",
            "_view_count": null,
            "_view_module": "@jupyter-widgets/base",
            "_view_module_version": "1.2.0",
            "_view_name": "StyleView",
            "description_width": ""
          }
        },
        "724d9b2e630a49c3aec74d5d7cab7410": {
          "model_module": "@jupyter-widgets/controls",
          "model_name": "HBoxModel",
          "model_module_version": "1.5.0",
          "state": {
            "_dom_classes": [],
            "_model_module": "@jupyter-widgets/controls",
            "_model_module_version": "1.5.0",
            "_model_name": "HBoxModel",
            "_view_count": null,
            "_view_module": "@jupyter-widgets/controls",
            "_view_module_version": "1.5.0",
            "_view_name": "HBoxView",
            "box_style": "",
            "children": [
              "IPY_MODEL_b97b728181d9488e970350e9be38dede",
              "IPY_MODEL_7a2c9f9c584d4a21b77026957635cffc",
              "IPY_MODEL_5a38857d8cac48e08be53d9f0b79f6dd"
            ],
            "layout": "IPY_MODEL_f2732a90dd8947879f77da6b7b54966a"
          }
        },
        "b97b728181d9488e970350e9be38dede": {
          "model_module": "@jupyter-widgets/controls",
          "model_name": "HTMLModel",
          "model_module_version": "1.5.0",
          "state": {
            "_dom_classes": [],
            "_model_module": "@jupyter-widgets/controls",
            "_model_module_version": "1.5.0",
            "_model_name": "HTMLModel",
            "_view_count": null,
            "_view_module": "@jupyter-widgets/controls",
            "_view_module_version": "1.5.0",
            "_view_name": "HTMLView",
            "description": "",
            "description_tooltip": null,
            "layout": "IPY_MODEL_7aa1713b1a664aa8a7c1ce9809f0ff38",
            "placeholder": "​",
            "style": "IPY_MODEL_6b0f4cdd1d514af2952df99414727ed4",
            "value": "100%"
          }
        },
        "7a2c9f9c584d4a21b77026957635cffc": {
          "model_module": "@jupyter-widgets/controls",
          "model_name": "FloatProgressModel",
          "model_module_version": "1.5.0",
          "state": {
            "_dom_classes": [],
            "_model_module": "@jupyter-widgets/controls",
            "_model_module_version": "1.5.0",
            "_model_name": "FloatProgressModel",
            "_view_count": null,
            "_view_module": "@jupyter-widgets/controls",
            "_view_module_version": "1.5.0",
            "_view_name": "ProgressView",
            "bar_style": "success",
            "description": "",
            "description_tooltip": null,
            "layout": "IPY_MODEL_2ef7ae62f94a4a68a6321d71ace15fc6",
            "max": 50,
            "min": 0,
            "orientation": "horizontal",
            "style": "IPY_MODEL_c7a5159184274061b8621af9a43b66d0",
            "value": 50
          }
        },
        "5a38857d8cac48e08be53d9f0b79f6dd": {
          "model_module": "@jupyter-widgets/controls",
          "model_name": "HTMLModel",
          "model_module_version": "1.5.0",
          "state": {
            "_dom_classes": [],
            "_model_module": "@jupyter-widgets/controls",
            "_model_module_version": "1.5.0",
            "_model_name": "HTMLModel",
            "_view_count": null,
            "_view_module": "@jupyter-widgets/controls",
            "_view_module_version": "1.5.0",
            "_view_name": "HTMLView",
            "description": "",
            "description_tooltip": null,
            "layout": "IPY_MODEL_0a4a160dbba14e7fa7033478a1741bb0",
            "placeholder": "​",
            "style": "IPY_MODEL_e789b506fd614e2090e0dfdc7e3b4bf0",
            "value": " 50/50 [07:01&lt;00:00,  8.29s/it]"
          }
        },
        "f2732a90dd8947879f77da6b7b54966a": {
          "model_module": "@jupyter-widgets/base",
          "model_name": "LayoutModel",
          "model_module_version": "1.2.0",
          "state": {
            "_model_module": "@jupyter-widgets/base",
            "_model_module_version": "1.2.0",
            "_model_name": "LayoutModel",
            "_view_count": null,
            "_view_module": "@jupyter-widgets/base",
            "_view_module_version": "1.2.0",
            "_view_name": "LayoutView",
            "align_content": null,
            "align_items": null,
            "align_self": null,
            "border": null,
            "bottom": null,
            "display": null,
            "flex": null,
            "flex_flow": null,
            "grid_area": null,
            "grid_auto_columns": null,
            "grid_auto_flow": null,
            "grid_auto_rows": null,
            "grid_column": null,
            "grid_gap": null,
            "grid_row": null,
            "grid_template_areas": null,
            "grid_template_columns": null,
            "grid_template_rows": null,
            "height": null,
            "justify_content": null,
            "justify_items": null,
            "left": null,
            "margin": null,
            "max_height": null,
            "max_width": null,
            "min_height": null,
            "min_width": null,
            "object_fit": null,
            "object_position": null,
            "order": null,
            "overflow": null,
            "overflow_x": null,
            "overflow_y": null,
            "padding": null,
            "right": null,
            "top": null,
            "visibility": null,
            "width": null
          }
        },
        "7aa1713b1a664aa8a7c1ce9809f0ff38": {
          "model_module": "@jupyter-widgets/base",
          "model_name": "LayoutModel",
          "model_module_version": "1.2.0",
          "state": {
            "_model_module": "@jupyter-widgets/base",
            "_model_module_version": "1.2.0",
            "_model_name": "LayoutModel",
            "_view_count": null,
            "_view_module": "@jupyter-widgets/base",
            "_view_module_version": "1.2.0",
            "_view_name": "LayoutView",
            "align_content": null,
            "align_items": null,
            "align_self": null,
            "border": null,
            "bottom": null,
            "display": null,
            "flex": null,
            "flex_flow": null,
            "grid_area": null,
            "grid_auto_columns": null,
            "grid_auto_flow": null,
            "grid_auto_rows": null,
            "grid_column": null,
            "grid_gap": null,
            "grid_row": null,
            "grid_template_areas": null,
            "grid_template_columns": null,
            "grid_template_rows": null,
            "height": null,
            "justify_content": null,
            "justify_items": null,
            "left": null,
            "margin": null,
            "max_height": null,
            "max_width": null,
            "min_height": null,
            "min_width": null,
            "object_fit": null,
            "object_position": null,
            "order": null,
            "overflow": null,
            "overflow_x": null,
            "overflow_y": null,
            "padding": null,
            "right": null,
            "top": null,
            "visibility": null,
            "width": null
          }
        },
        "6b0f4cdd1d514af2952df99414727ed4": {
          "model_module": "@jupyter-widgets/controls",
          "model_name": "DescriptionStyleModel",
          "model_module_version": "1.5.0",
          "state": {
            "_model_module": "@jupyter-widgets/controls",
            "_model_module_version": "1.5.0",
            "_model_name": "DescriptionStyleModel",
            "_view_count": null,
            "_view_module": "@jupyter-widgets/base",
            "_view_module_version": "1.2.0",
            "_view_name": "StyleView",
            "description_width": ""
          }
        },
        "2ef7ae62f94a4a68a6321d71ace15fc6": {
          "model_module": "@jupyter-widgets/base",
          "model_name": "LayoutModel",
          "model_module_version": "1.2.0",
          "state": {
            "_model_module": "@jupyter-widgets/base",
            "_model_module_version": "1.2.0",
            "_model_name": "LayoutModel",
            "_view_count": null,
            "_view_module": "@jupyter-widgets/base",
            "_view_module_version": "1.2.0",
            "_view_name": "LayoutView",
            "align_content": null,
            "align_items": null,
            "align_self": null,
            "border": null,
            "bottom": null,
            "display": null,
            "flex": null,
            "flex_flow": null,
            "grid_area": null,
            "grid_auto_columns": null,
            "grid_auto_flow": null,
            "grid_auto_rows": null,
            "grid_column": null,
            "grid_gap": null,
            "grid_row": null,
            "grid_template_areas": null,
            "grid_template_columns": null,
            "grid_template_rows": null,
            "height": null,
            "justify_content": null,
            "justify_items": null,
            "left": null,
            "margin": null,
            "max_height": null,
            "max_width": null,
            "min_height": null,
            "min_width": null,
            "object_fit": null,
            "object_position": null,
            "order": null,
            "overflow": null,
            "overflow_x": null,
            "overflow_y": null,
            "padding": null,
            "right": null,
            "top": null,
            "visibility": null,
            "width": null
          }
        },
        "c7a5159184274061b8621af9a43b66d0": {
          "model_module": "@jupyter-widgets/controls",
          "model_name": "ProgressStyleModel",
          "model_module_version": "1.5.0",
          "state": {
            "_model_module": "@jupyter-widgets/controls",
            "_model_module_version": "1.5.0",
            "_model_name": "ProgressStyleModel",
            "_view_count": null,
            "_view_module": "@jupyter-widgets/base",
            "_view_module_version": "1.2.0",
            "_view_name": "StyleView",
            "bar_color": null,
            "description_width": ""
          }
        },
        "0a4a160dbba14e7fa7033478a1741bb0": {
          "model_module": "@jupyter-widgets/base",
          "model_name": "LayoutModel",
          "model_module_version": "1.2.0",
          "state": {
            "_model_module": "@jupyter-widgets/base",
            "_model_module_version": "1.2.0",
            "_model_name": "LayoutModel",
            "_view_count": null,
            "_view_module": "@jupyter-widgets/base",
            "_view_module_version": "1.2.0",
            "_view_name": "LayoutView",
            "align_content": null,
            "align_items": null,
            "align_self": null,
            "border": null,
            "bottom": null,
            "display": null,
            "flex": null,
            "flex_flow": null,
            "grid_area": null,
            "grid_auto_columns": null,
            "grid_auto_flow": null,
            "grid_auto_rows": null,
            "grid_column": null,
            "grid_gap": null,
            "grid_row": null,
            "grid_template_areas": null,
            "grid_template_columns": null,
            "grid_template_rows": null,
            "height": null,
            "justify_content": null,
            "justify_items": null,
            "left": null,
            "margin": null,
            "max_height": null,
            "max_width": null,
            "min_height": null,
            "min_width": null,
            "object_fit": null,
            "object_position": null,
            "order": null,
            "overflow": null,
            "overflow_x": null,
            "overflow_y": null,
            "padding": null,
            "right": null,
            "top": null,
            "visibility": null,
            "width": null
          }
        },
        "e789b506fd614e2090e0dfdc7e3b4bf0": {
          "model_module": "@jupyter-widgets/controls",
          "model_name": "DescriptionStyleModel",
          "model_module_version": "1.5.0",
          "state": {
            "_model_module": "@jupyter-widgets/controls",
            "_model_module_version": "1.5.0",
            "_model_name": "DescriptionStyleModel",
            "_view_count": null,
            "_view_module": "@jupyter-widgets/base",
            "_view_module_version": "1.2.0",
            "_view_name": "StyleView",
            "description_width": ""
          }
        },
        "69778c6573b24c76b7e901e4c289ab9c": {
          "model_module": "@jupyter-widgets/controls",
          "model_name": "HBoxModel",
          "model_module_version": "1.5.0",
          "state": {
            "_dom_classes": [],
            "_model_module": "@jupyter-widgets/controls",
            "_model_module_version": "1.5.0",
            "_model_name": "HBoxModel",
            "_view_count": null,
            "_view_module": "@jupyter-widgets/controls",
            "_view_module_version": "1.5.0",
            "_view_name": "HBoxView",
            "box_style": "",
            "children": [
              "IPY_MODEL_c71dd3a1be7f433e85fa969a5e76ef76",
              "IPY_MODEL_f6783702b4804d939b6a2c149615441a",
              "IPY_MODEL_1ec168cd3f8a477da50006627e8bcf6c"
            ],
            "layout": "IPY_MODEL_bcd9a0b2a8794a0a82607fcbe1307704"
          }
        },
        "c71dd3a1be7f433e85fa969a5e76ef76": {
          "model_module": "@jupyter-widgets/controls",
          "model_name": "HTMLModel",
          "model_module_version": "1.5.0",
          "state": {
            "_dom_classes": [],
            "_model_module": "@jupyter-widgets/controls",
            "_model_module_version": "1.5.0",
            "_model_name": "HTMLModel",
            "_view_count": null,
            "_view_module": "@jupyter-widgets/controls",
            "_view_module_version": "1.5.0",
            "_view_name": "HTMLView",
            "description": "",
            "description_tooltip": null,
            "layout": "IPY_MODEL_c7bb91d35e4e4bbfbc5ed254acbfe99b",
            "placeholder": "​",
            "style": "IPY_MODEL_95f23a2d74924abd9f4fa35b30d20640",
            "value": "100%"
          }
        },
        "f6783702b4804d939b6a2c149615441a": {
          "model_module": "@jupyter-widgets/controls",
          "model_name": "FloatProgressModel",
          "model_module_version": "1.5.0",
          "state": {
            "_dom_classes": [],
            "_model_module": "@jupyter-widgets/controls",
            "_model_module_version": "1.5.0",
            "_model_name": "FloatProgressModel",
            "_view_count": null,
            "_view_module": "@jupyter-widgets/controls",
            "_view_module_version": "1.5.0",
            "_view_name": "ProgressView",
            "bar_style": "success",
            "description": "",
            "description_tooltip": null,
            "layout": "IPY_MODEL_27f9a858c5b94d059cd301f9df0700b5",
            "max": 50,
            "min": 0,
            "orientation": "horizontal",
            "style": "IPY_MODEL_eefa38fe01b44f358218a162fa561897",
            "value": 50
          }
        },
        "1ec168cd3f8a477da50006627e8bcf6c": {
          "model_module": "@jupyter-widgets/controls",
          "model_name": "HTMLModel",
          "model_module_version": "1.5.0",
          "state": {
            "_dom_classes": [],
            "_model_module": "@jupyter-widgets/controls",
            "_model_module_version": "1.5.0",
            "_model_name": "HTMLModel",
            "_view_count": null,
            "_view_module": "@jupyter-widgets/controls",
            "_view_module_version": "1.5.0",
            "_view_name": "HTMLView",
            "description": "",
            "description_tooltip": null,
            "layout": "IPY_MODEL_f9d71fc610ad47c691fc1567d755c9ac",
            "placeholder": "​",
            "style": "IPY_MODEL_b535480ae8c943adbce53b09fa2e3a55",
            "value": " 50/50 [01:56&lt;00:00,  2.03s/it]"
          }
        },
        "bcd9a0b2a8794a0a82607fcbe1307704": {
          "model_module": "@jupyter-widgets/base",
          "model_name": "LayoutModel",
          "model_module_version": "1.2.0",
          "state": {
            "_model_module": "@jupyter-widgets/base",
            "_model_module_version": "1.2.0",
            "_model_name": "LayoutModel",
            "_view_count": null,
            "_view_module": "@jupyter-widgets/base",
            "_view_module_version": "1.2.0",
            "_view_name": "LayoutView",
            "align_content": null,
            "align_items": null,
            "align_self": null,
            "border": null,
            "bottom": null,
            "display": null,
            "flex": null,
            "flex_flow": null,
            "grid_area": null,
            "grid_auto_columns": null,
            "grid_auto_flow": null,
            "grid_auto_rows": null,
            "grid_column": null,
            "grid_gap": null,
            "grid_row": null,
            "grid_template_areas": null,
            "grid_template_columns": null,
            "grid_template_rows": null,
            "height": null,
            "justify_content": null,
            "justify_items": null,
            "left": null,
            "margin": null,
            "max_height": null,
            "max_width": null,
            "min_height": null,
            "min_width": null,
            "object_fit": null,
            "object_position": null,
            "order": null,
            "overflow": null,
            "overflow_x": null,
            "overflow_y": null,
            "padding": null,
            "right": null,
            "top": null,
            "visibility": null,
            "width": null
          }
        },
        "c7bb91d35e4e4bbfbc5ed254acbfe99b": {
          "model_module": "@jupyter-widgets/base",
          "model_name": "LayoutModel",
          "model_module_version": "1.2.0",
          "state": {
            "_model_module": "@jupyter-widgets/base",
            "_model_module_version": "1.2.0",
            "_model_name": "LayoutModel",
            "_view_count": null,
            "_view_module": "@jupyter-widgets/base",
            "_view_module_version": "1.2.0",
            "_view_name": "LayoutView",
            "align_content": null,
            "align_items": null,
            "align_self": null,
            "border": null,
            "bottom": null,
            "display": null,
            "flex": null,
            "flex_flow": null,
            "grid_area": null,
            "grid_auto_columns": null,
            "grid_auto_flow": null,
            "grid_auto_rows": null,
            "grid_column": null,
            "grid_gap": null,
            "grid_row": null,
            "grid_template_areas": null,
            "grid_template_columns": null,
            "grid_template_rows": null,
            "height": null,
            "justify_content": null,
            "justify_items": null,
            "left": null,
            "margin": null,
            "max_height": null,
            "max_width": null,
            "min_height": null,
            "min_width": null,
            "object_fit": null,
            "object_position": null,
            "order": null,
            "overflow": null,
            "overflow_x": null,
            "overflow_y": null,
            "padding": null,
            "right": null,
            "top": null,
            "visibility": null,
            "width": null
          }
        },
        "95f23a2d74924abd9f4fa35b30d20640": {
          "model_module": "@jupyter-widgets/controls",
          "model_name": "DescriptionStyleModel",
          "model_module_version": "1.5.0",
          "state": {
            "_model_module": "@jupyter-widgets/controls",
            "_model_module_version": "1.5.0",
            "_model_name": "DescriptionStyleModel",
            "_view_count": null,
            "_view_module": "@jupyter-widgets/base",
            "_view_module_version": "1.2.0",
            "_view_name": "StyleView",
            "description_width": ""
          }
        },
        "27f9a858c5b94d059cd301f9df0700b5": {
          "model_module": "@jupyter-widgets/base",
          "model_name": "LayoutModel",
          "model_module_version": "1.2.0",
          "state": {
            "_model_module": "@jupyter-widgets/base",
            "_model_module_version": "1.2.0",
            "_model_name": "LayoutModel",
            "_view_count": null,
            "_view_module": "@jupyter-widgets/base",
            "_view_module_version": "1.2.0",
            "_view_name": "LayoutView",
            "align_content": null,
            "align_items": null,
            "align_self": null,
            "border": null,
            "bottom": null,
            "display": null,
            "flex": null,
            "flex_flow": null,
            "grid_area": null,
            "grid_auto_columns": null,
            "grid_auto_flow": null,
            "grid_auto_rows": null,
            "grid_column": null,
            "grid_gap": null,
            "grid_row": null,
            "grid_template_areas": null,
            "grid_template_columns": null,
            "grid_template_rows": null,
            "height": null,
            "justify_content": null,
            "justify_items": null,
            "left": null,
            "margin": null,
            "max_height": null,
            "max_width": null,
            "min_height": null,
            "min_width": null,
            "object_fit": null,
            "object_position": null,
            "order": null,
            "overflow": null,
            "overflow_x": null,
            "overflow_y": null,
            "padding": null,
            "right": null,
            "top": null,
            "visibility": null,
            "width": null
          }
        },
        "eefa38fe01b44f358218a162fa561897": {
          "model_module": "@jupyter-widgets/controls",
          "model_name": "ProgressStyleModel",
          "model_module_version": "1.5.0",
          "state": {
            "_model_module": "@jupyter-widgets/controls",
            "_model_module_version": "1.5.0",
            "_model_name": "ProgressStyleModel",
            "_view_count": null,
            "_view_module": "@jupyter-widgets/base",
            "_view_module_version": "1.2.0",
            "_view_name": "StyleView",
            "bar_color": null,
            "description_width": ""
          }
        },
        "f9d71fc610ad47c691fc1567d755c9ac": {
          "model_module": "@jupyter-widgets/base",
          "model_name": "LayoutModel",
          "model_module_version": "1.2.0",
          "state": {
            "_model_module": "@jupyter-widgets/base",
            "_model_module_version": "1.2.0",
            "_model_name": "LayoutModel",
            "_view_count": null,
            "_view_module": "@jupyter-widgets/base",
            "_view_module_version": "1.2.0",
            "_view_name": "LayoutView",
            "align_content": null,
            "align_items": null,
            "align_self": null,
            "border": null,
            "bottom": null,
            "display": null,
            "flex": null,
            "flex_flow": null,
            "grid_area": null,
            "grid_auto_columns": null,
            "grid_auto_flow": null,
            "grid_auto_rows": null,
            "grid_column": null,
            "grid_gap": null,
            "grid_row": null,
            "grid_template_areas": null,
            "grid_template_columns": null,
            "grid_template_rows": null,
            "height": null,
            "justify_content": null,
            "justify_items": null,
            "left": null,
            "margin": null,
            "max_height": null,
            "max_width": null,
            "min_height": null,
            "min_width": null,
            "object_fit": null,
            "object_position": null,
            "order": null,
            "overflow": null,
            "overflow_x": null,
            "overflow_y": null,
            "padding": null,
            "right": null,
            "top": null,
            "visibility": null,
            "width": null
          }
        },
        "b535480ae8c943adbce53b09fa2e3a55": {
          "model_module": "@jupyter-widgets/controls",
          "model_name": "DescriptionStyleModel",
          "model_module_version": "1.5.0",
          "state": {
            "_model_module": "@jupyter-widgets/controls",
            "_model_module_version": "1.5.0",
            "_model_name": "DescriptionStyleModel",
            "_view_count": null,
            "_view_module": "@jupyter-widgets/base",
            "_view_module_version": "1.2.0",
            "_view_name": "StyleView",
            "description_width": ""
          }
        }
      }
    }
  },
  "nbformat": 4,
  "nbformat_minor": 0
}