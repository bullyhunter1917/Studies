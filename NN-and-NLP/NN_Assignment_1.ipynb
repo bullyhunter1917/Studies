{
  "cells": [
    {
      "cell_type": "markdown",
      "metadata": {
        "id": "view-in-github",
        "colab_type": "text"
      },
      "source": [
        "<a href=\"https://colab.research.google.com/github/bullyhunter1917/Studies/blob/main/NN-and-NLP/NN_Assignment_1.ipynb\" target=\"_parent\"><img src=\"https://colab.research.google.com/assets/colab-badge.svg\" alt=\"Open In Colab\"/></a>"
      ]
    },
    {
      "cell_type": "markdown",
      "metadata": {
        "cell_id": "00001-caefeb56-f9c5-4f9e-a096-b89246dc63d7",
        "deepnote_app_coordinates": {
          "h": 5,
          "w": 12,
          "x": 0,
          "y": 6
        },
        "deepnote_cell_type": "markdown",
        "id": "CGXgWugfJ0Vl"
      },
      "source": [
        "## Assignment 1\n",
        "\n",
        "**Submission deadlines:** \n",
        "- get at least **2** points by Tuesday, 07.03.2023\n",
        "- remaining points: last lab session before or on Thursday, 16.03.2023\n",
        "\n",
        "**Points:** Aim to get 8 out of 12 possible points\n",
        "\n",
        "## Submission instructions\n",
        "The class is held on-site in lab rooms. Please prepare you notebook on your computer or anywhere in the cloud (try using DeepNote or Google Colab).\n",
        "Make sure you know all the questions and asnwers, and that the notebook contains results; bfore presentation do `Runtime -> Restart and run all`\n",
        "![Picture title](image-20220302-183151.png)\n",
        "\n",
        "We provide starter code, however you are not required to use it as long as you properly solve the tasks.\n"
      ]
    },
    {
      "cell_type": "markdown",
      "metadata": {
        "cell_id": "00002-c92cc86e-f65f-4e16-9124-9ca4d4265c88",
        "deepnote_app_coordinates": {
          "h": 5,
          "w": 12,
          "x": 0,
          "y": 12
        },
        "deepnote_cell_type": "markdown",
        "id": "5S8iRaCPyO2a"
      },
      "source": [
        "# Task description\n",
        "\n",
        "## TLDR\n",
        "Implement and train a neural network using pure numpy."
      ]
    },
    {
      "cell_type": "markdown",
      "metadata": {
        "cell_id": "00003-1893a0a0-4515-4960-bce8-37f660543eea",
        "deepnote_app_coordinates": {
          "h": 5,
          "w": 12,
          "x": 0,
          "y": 18
        },
        "deepnote_cell_type": "markdown",
        "id": "JHcz7I2V-bVM"
      },
      "source": [
        "\n",
        "## Problem 1 [2p]\n",
        "Implement a two-layer network, manually set weights and biases to solve the XOR task.\n",
        "\n",
        "A two-layer neural network implementes a function $f: \\mathbb{R}^D \\rightarrow \\mathbb{R}^O$ where $D$ is the input dimensionality and $O$ is the output dinemsionality. The output goes through an intermediate representation (the hidden layer) with dimensionality $H$. \n",
        "\n",
        "The computations are as follows:\n",
        "$$\n",
        "\\begin{aligned}\n",
        "A_1 &= x W_1^T + b_1  & \\qquad\\text{Total input to neurons in the hidden layer (network's first layer)} \\\\\n",
        "O_1 &= \\sigma_1(A_1)  & \\qquad\\text{Output of the hidden layer} \\\\\n",
        "A_2 &= O_1 W_2^T + b_2 & \\qquad\\text{Total input to neurons in the output layer (network's second layer)}\\\\\n",
        "O_2 &= \\sigma_2(A_2)  & \\qquad\\text{Output of the network}\n",
        "\\end{aligned}\n",
        "$$\n",
        "\n",
        "Where $W$ are weight matrices, $b$ are bias vectors, $\\sigma$ are non-linear activation functions (e.g. the logistic sigmoid applied element-wise, or softmax).\n",
        "\n",
        "For the 2D xor problem the network will:\n",
        "- have 2 inputs, 2 hidden neurons, one output\n",
        "- use the logistic sigmoid everywhere (that way we, when hand-designig the weights, we can assume that neurons' outputs are binary).\n",
        "\n",
        "Therrefore the shapes of the data flowing through the network will be:\n",
        "- input: $x\\in\\mathbb{}R^{2}$\n",
        "- hidden layer parameters: $W_1\\in\\mathbb{}R^{2\\times 2}$ and $b_1\\in\\mathbb{}R^{2}$\n",
        "- representations in the hidden layer: $A_1\\in\\mathbb{}R^{2}$ and $O_1\\in\\mathbb{}R^{2}$\n",
        "- output layer parameters: $W_2\\in\\mathbb{}R^{1\\times 2}$ and $b_2\\in\\mathbb{}R^{1}$\n",
        "- representations in the output layer: $A_2\\in\\mathbb{}R^{1}$ and $O_2\\in\\mathbb{}R^{1}$\n",
        "\n",
        "The network can be seen as a logistic regression model, prefixed by a nonlinear transformation of the data.\n",
        "\n",
        "The first tasks consists of:\n",
        "- implementing the network\n",
        "- selecting parametwrs ($W_1, b_1, W_2, b_2$) such that $f(x)\\approx XOR(x_1, x_2)$ where the approximation is die to the sigmoids - the output may be close to 0 or 1, but doesn't need to saturate at 0 or 1.\n",
        "\n",
        "NB: the convention on weight matrix shapes follows linear [layers in PyTorch](https://pytorch.org/docs/stable/generated/torch.nn.Linear.html).\n"
      ]
    },
    {
      "cell_type": "markdown",
      "metadata": {
        "cell_id": "00004-0d502510-cfd1-44da-b88c-da6aaf275617",
        "deepnote_app_coordinates": {
          "h": 5,
          "w": 12,
          "x": 0,
          "y": 24
        },
        "deepnote_cell_type": "markdown",
        "id": "0QSpZxuH-bLe"
      },
      "source": [
        "## Problem 2 [2p]\n",
        "1. Add a backward pass.\n",
        "2. Use a sensible random initialization for weights and biases.\n",
        "3. Numerically check the correctness of your gradient computation.\n",
        "\n",
        "There is nice article about taking derivative over vectors and vector chain rule: https://explained.ai/matrix-calculus/ if someone don't have experience with suchr calculus.\n"
      ]
    },
    {
      "cell_type": "markdown",
      "metadata": {
        "cell_id": "00005-96083315-f850-4103-946e-cc9b11377543",
        "deepnote_app_coordinates": {
          "h": 5,
          "w": 12,
          "x": 0,
          "y": 30
        },
        "deepnote_cell_type": "markdown",
        "id": "s1Tn8j0m-bAy"
      },
      "source": [
        "## Problem 3 [2p]\n",
        "1. Implement gradient descent\n",
        "2. Train your network to solve 3D XOR\n",
        "3. Try several hidden layer sizes, for each size record the fracton of successful trainings. Then answer:\n",
        "    - What is the minimal hidden size required to solve 3D XOR (even with low reliability, when the training has to be repeated multiple times)\n",
        "    - What is the minimal hidden size required to reliably solve 3D XOR\n",
        "    - Which networks are easier to train - small or large ones? Why?\n"
      ]
    },
    {
      "cell_type": "markdown",
      "metadata": {
        "cell_id": "00006-94cc4eb9-0202-4308-9a9e-007db44a6a98",
        "deepnote_app_coordinates": {
          "h": 5,
          "w": 12,
          "x": 0,
          "y": 36
        },
        "deepnote_cell_type": "markdown",
        "id": "RP9Pvpmf-a2A"
      },
      "source": [
        "## Problem 4 [1p]\n",
        "Replace the first nonlinearity with the [ReLU](https://en.wikipedia.org/wiki/Rectifier_(neural_networks)) activation function. Find a network architecture which reliably learns the 3D XOR problem.\n"
      ]
    },
    {
      "cell_type": "markdown",
      "metadata": {
        "cell_id": "00007-9e6e984c-5131-4333-837b-7e57c4bfb650",
        "deepnote_app_coordinates": {
          "h": 5,
          "w": 12,
          "x": 0,
          "y": 42
        },
        "deepnote_cell_type": "markdown",
        "id": "cGgtpe-w-asB"
      },
      "source": [
        "## Problem 5 [1p]\n",
        "Add a second hidden layer to your network, implement the forward and backward pass, then demonstrate training.\n"
      ]
    },
    {
      "cell_type": "markdown",
      "metadata": {
        "cell_id": "00008-86ea4bdd-83dc-4197-baad-d216fbacc786",
        "deepnote_app_coordinates": {
          "h": 5,
          "w": 12,
          "x": 0,
          "y": 48
        },
        "deepnote_cell_type": "markdown",
        "id": "Pe-pcFeO-aiE"
      },
      "source": [
        "## Problem 6 [2p]\n",
        "Implement a way to have a _variable number_ of hidden layers. Check how deep sigmoid or ReLU networks you  can train. For simplicity you can assume that all hidden layers have the same number of neurons, and use the same activation function.\n"
      ]
    },
    {
      "cell_type": "markdown",
      "metadata": {
        "cell_id": "00009-64a0b978-7933-40be-89e4-a3d35d52c7ab",
        "deepnote_app_coordinates": {
          "h": 5,
          "w": 12,
          "x": 0,
          "y": 54
        },
        "deepnote_cell_type": "markdown",
        "id": "kIpn17Cm-aW7"
      },
      "source": [
        "## Problem 7 [2p]\n",
        "For each weight matrix $w\\in\\mathbb{R}^{n\\times m}$, add a randomly initialized `backward weight` $w_b\\in\\mathbb{R}^{m\\times n}$, which will not change during training. Change the backward pass to use $w_b$ instead of $w^T$, getting an approxmatoin of the true gradient. Can you get your network to train?\n",
        "\n",
        "NB: this approach, dubbed [feedback alignment](https://www.nature.com/articles/ncomms13276), was proposed to make error backpropagation more biologically plausible, by providing a solution to the \"weight transport problem\". Regular backpropagation requires that neurons not only know their incoming weights (thet they control), but also their outgoing weights (that are controlled by neurons in the upper layers). This is nearly impossible in a real brain."
      ]
    },
    {
      "cell_type": "markdown",
      "metadata": {
        "cell_id": "00010-954fd65b-4d81-4bbc-bf6b-4d10d50be9b8",
        "deepnote_app_coordinates": {
          "h": 5,
          "w": 12,
          "x": 0,
          "y": 60
        },
        "deepnote_cell_type": "markdown",
        "id": "rXJaoHSH0DZO"
      },
      "source": [
        "# Solutions and starter code"
      ]
    },
    {
      "cell_type": "code",
      "execution_count": null,
      "metadata": {
        "cell_id": "00011-97f2c7fe-a3d5-4a6b-bc12-8a96bfeed475",
        "deepnote_app_coordinates": {
          "h": 5,
          "w": 12,
          "x": 0,
          "y": 66
        },
        "deepnote_cell_type": "code",
        "id": "YiTEWD2oqW0Y"
      },
      "outputs": [],
      "source": [
        "import matplotlib.pyplot as plt\n",
        "import numpy as np\n",
        "from tqdm import tqdm"
      ]
    },
    {
      "cell_type": "markdown",
      "metadata": {
        "cell_id": "00012-8bc44e88-e665-483d-89fc-c866879ad335",
        "deepnote_app_coordinates": {
          "h": 5,
          "w": 12,
          "x": 0,
          "y": 72
        },
        "deepnote_cell_type": "markdown",
        "id": "eqtfJKR40J3x"
      },
      "source": [
        "XOR dataset creation"
      ]
    },
    {
      "cell_type": "code",
      "execution_count": null,
      "metadata": {
        "cell_id": "00013-3adfc55c-5dcc-476a-9e4a-328f2044ebc1",
        "colab": {
          "base_uri": "https://localhost:8080/",
          "height": 296
        },
        "deepnote_app_coordinates": {
          "h": 5,
          "w": 12,
          "x": 0,
          "y": 78
        },
        "deepnote_cell_type": "code",
        "id": "lYEbCfbSpv5M",
        "outputId": "d34b50d2-ca00-48b7-afb5-db52f8f44981"
      },
      "outputs": [
        {
          "output_type": "execute_result",
          "data": {
            "text/plain": [
              "(-0.05, 1.05, -0.05, 1.05)"
            ]
          },
          "metadata": {},
          "execution_count": 2
        },
        {
          "output_type": "display_data",
          "data": {
            "text/plain": [
              "<Figure size 432x288 with 1 Axes>"
            ],
            "image/png": "[encoded data removed]"
          },
          "metadata": {
            "needs_background": "light"
          }
        }
      ],
      "source": [
        "# Let's define a XOR dataset\n",
        "\n",
        "# X will be matrix of N 2-dimensional inputs\n",
        "X = np.array([[0, 0], [0, 1], [1, 0], [1, 1],], dtype=np.float32)\n",
        "# Y is a matrix of N numners - answers\n",
        "Y = np.array([[0], [1], [1], [0],], dtype=np.float32)\n",
        "\n",
        "plt.scatter(\n",
        "    X[:, 0], X[:, 1], c=Y[:, 0],\n",
        ")\n",
        "plt.xlabel(\"X[0]\")\n",
        "plt.ylabel(\"X[1]\")\n",
        "plt.axis(\"square\")"
      ]
    },
    {
      "cell_type": "markdown",
      "metadata": {
        "cell_id": "00014-fe501b87-4247-497d-a7c7-f528483d31cc",
        "deepnote_app_coordinates": {
          "h": 5,
          "w": 12,
          "x": 0,
          "y": 84
        },
        "deepnote_cell_type": "markdown",
        "id": "Rb3azMn929_I"
      },
      "source": [
        "## Problem 1"
      ]
    },
    {
      "cell_type": "markdown",
      "metadata": {
        "cell_id": "00015-97a3483d-0ae6-4bee-afd5-6226abc622a5",
        "deepnote_app_coordinates": {
          "h": 5,
          "w": 12,
          "x": 0,
          "y": 90
        },
        "deepnote_cell_type": "markdown",
        "id": "RZCM_hdELE04"
      },
      "source": [
        "The code below contains a mock-up of a two-layer neural network. Fill in the code and manually set weights to solve the XOR problem.\n",
        "\n",
        "Please note: the shapes are set to be compatible with PyTorch's conventions:\n",
        "* a batch containing $N$ $D$-dimensional examples has shape $N\\times D$ (each example is a row!)\n",
        "* a weight matrix in a linear layer with $I$ inputs and $O$ outputs has shape $O \\times I$\n",
        "* a bias vector is a 1D vector. Please note that [broadcasting rules](https://docs.scipy.org/doc/numpy/user/basics.broadcasting.html) allow us to think about it as a $1 \\times D$ matrix."
      ]
    },
    {
      "cell_type": "code",
      "execution_count": null,
      "metadata": {
        "cell_id": "00016-87dd53c6-4f21-4286-8a85-61c2a92fa819",
        "deepnote_app_coordinates": {
          "h": 5,
          "w": 12,
          "x": 0,
          "y": 96
        },
        "deepnote_cell_type": "code",
        "id": "lrrRuk6zLiF0"
      },
      "outputs": [],
      "source": [
        "def sigmoid(x):\n",
        "    return 1/(1 + np.exp(-x))\n",
        "\n",
        "\n",
        "class SmallNet:\n",
        "    def __init__(self, in_features, num_hidden, dtype=np.float32):\n",
        "        self.W1 = np.zeros((num_hidden, in_features), dtype=dtype)\n",
        "        self.b1 = np.zeros((num_hidden, ), dtype=dtype)\n",
        "        self.W2 = np.zeros((1, num_hidden), dtype=dtype)\n",
        "        self.b2 = np.zeros((1,), dtype=dtype)\n",
        "        self.init_params()\n",
        "\n",
        "    def init_params(self):\n",
        "        self.W1 = np.random.normal(0, 0.5, self.W1.shape)\n",
        "        self.b1 = np.random.normal(0, 0.5, self.b1.shape)\n",
        "        self.W2 = np.random.normal(0, 0.5, self.W2.shape)\n",
        "        self.b2 = np.random.normal(0, 0.5, self.b2.shape)\n",
        "        # TODO for Problem 2:\n",
        "        # set all parameters to small random values, e.g. from N(0, 0.5)\n",
        "        pass\n",
        "\n",
        "    def forward(self, X, Y=None, do_backward=False):\n",
        "        # TODO Problem 1: Fill in details of forward propagation\n",
        "\n",
        "        # Input to neurons in 1st layer\n",
        "        A1 = X@self.W1.T+self.b1\n",
        "        # Outputs after the sigmoid non-linearity\n",
        "        O1 = sigmoid(A1)\n",
        "        # Inputs to neuron in the second layer\n",
        "        A2 = O1@self.W2.T+self.b2\n",
        "        # Outputs after the sigmoid non-linearity\n",
        "        O2 = sigmoid(A2)\n",
        "\n",
        "        # When Y is none, simply return the predictions. Else compute the loss\n",
        "        if Y is not None:\n",
        "            loss = Y*np.log(O2) + (1-Y)*np.log(1 - O2)# TODO cross-entropy loss\n",
        "            # normalize loss by batch size\n",
        "            loss = - loss.sum() / X.shape[0]\n",
        "        else:\n",
        "            loss = np.nan\n",
        "\n",
        "        if do_backward:\n",
        "            # TODO in Problem 2:\n",
        "            # fill in the gradient computation\n",
        "            # Please note, that there is a correspondance between\n",
        "            # the forward and backward pass: with backward computations happening\n",
        "            # in reverse order.\n",
        "            # We save the gradients with respect to the parameters as fields of self.\n",
        "            # It is not very elegant, but simplifies training code later on.\n",
        "\n",
        "            # A2_grad is the gradient of loss with respect to A2\n",
        "            # Hint: there is a concise formula for the gradient\n",
        "            # of logistic sigmoid and cross-entropy loss\n",
        "            O2_grad = (O2-Y)/(O2-np.square(O2))\n",
        "            A2_grad = O2_grad*(sigmoid(A2)*(1 - sigmoid(A2)))\n",
        "            self.b2_grad = A2_grad.sum(0)/X.shape[0]\n",
        "            self.W2_grad = np.array([(O1*A2_grad).sum(0)/X.shape[0]])\n",
        "            O1_grad = self.W2*A2_grad\n",
        "            A1_grad = O1_grad*(sigmoid(A1)*(1 - sigmoid(A1)))\n",
        "            self.b1_grad = A1_grad.sum(0)/X.shape[0]\n",
        "            self.W1_grad = np.zeros(self.W1.shape)\n",
        "            for i in range(X.shape[0]):\n",
        "                self.W1_grad += (X[i][:, np.newaxis]*A1_grad[i]).T  \n",
        "            self.W1_grad /= X.shape[0]\n",
        "\n",
        "        return O2, loss"
      ]
    },
    {
      "cell_type": "code",
      "execution_count": null,
      "metadata": {
        "cell_id": "00017-32ce9293-0a37-4397-aeac-25eef428e8d4",
        "colab": {
          "base_uri": "https://localhost:8080/"
        },
        "deepnote_app_coordinates": {
          "h": 5,
          "w": 12,
          "x": 0,
          "y": 102
        },
        "deepnote_cell_type": "code",
        "id": "jJswvBk0oiIY",
        "outputId": "ed749f40-83a2-4e62-a89b-fa2a7b079c6d"
      },
      "outputs": [
        {
          "output_type": "stream",
          "name": "stdout",
          "text": [
            "4.546077501637665e-05\n",
            "XORnet([0. 0.]) = 4.543910487654591e-05\n",
            "XORnet([0. 1.]) = 0.999954519621495\n",
            "XORnet([1. 0.]) = 0.999954519621495\n",
            "XORnet([1. 1.]) = 4.543910487654575e-05\n"
          ]
        }
      ],
      "source": [
        "# TODO Problem 1:\n",
        "# Set by hand the weight values to solve the XOR problem\n",
        "\n",
        "\n",
        "\n",
        "net = SmallNet(2, 2, dtype=np.float64)\n",
        "net.W1 = np.array([[20, 20], [-20, -20]])\n",
        "net.b1 = np.array([[-10, 30]])\n",
        "net.W2 = np.ones((1,2))*20\n",
        "net.b2 = np.array([[-30]])\n",
        "\n",
        "# Hint: since we use the logistic sigmoid activation, the weights may need to\n",
        "# be fairly large\n",
        "\n",
        "predictions, loss = net.forward(X, Y, do_backward=True)\n",
        "print(loss)\n",
        "for x, p in zip(X, predictions):\n",
        "    print(f\"XORnet({x}) = {p[0]}\")"
      ]
    },
    {
      "cell_type": "markdown",
      "metadata": {
        "cell_id": "00018-9f8740d2-90e7-4d20-a535-002df8547aba",
        "deepnote_app_coordinates": {
          "h": 5,
          "w": 12,
          "x": 0,
          "y": 108
        },
        "deepnote_cell_type": "markdown",
        "id": "wmxCi5Vl6_xB"
      },
      "source": [
        "## Problem 2"
      ]
    },
    {
      "cell_type": "code",
      "execution_count": null,
      "metadata": {
        "cell_id": "00019-8f804996-a00a-4bb5-a524-ad056659e023",
        "deepnote_app_coordinates": {
          "h": 5,
          "w": 12,
          "x": 0,
          "y": 114
        },
        "deepnote_cell_type": "code",
        "id": "eSM5hgJ1mrhY"
      },
      "outputs": [],
      "source": [
        "def check_grad(net, param_name, X, Y, eps=1e-5):\n",
        "    \"\"\"A gradient checking routine\"\"\"\n",
        "\n",
        "    param = getattr(net, param_name)\n",
        "    param_flat_accessor = param.reshape(-1)\n",
        "\n",
        "    grad = np.empty_like(param)\n",
        "    grad_flat_accessor = grad.reshape(-1)\n",
        "\n",
        "    net.forward(X, Y, do_backward=True)\n",
        "    orig_grad = getattr(net, param_name + \"_grad\")\n",
        "    assert param.shape == orig_grad.shape\n",
        "\n",
        "    for i in range(param_flat_accessor.shape[0]):\n",
        "        orig_val = param_flat_accessor[i]\n",
        "        param_flat_accessor[i] = orig_val + eps\n",
        "        _, loss_positive = net.forward(X, Y)\n",
        "        param_flat_accessor[i] = orig_val - eps\n",
        "        _, loss_negative = net.forward(X, Y)\n",
        "        param_flat_accessor[i] = orig_val\n",
        "        grad_flat_accessor[i] = (loss_positive - loss_negative) / (2 * eps)\n",
        "    \n",
        "    assert np.allclose(grad, orig_grad)\n",
        "    return grad, orig_grad"
      ]
    },
    {
      "cell_type": "code",
      "execution_count": null,
      "metadata": {
        "cell_id": "00020-1c4174cf-f129-4cad-adad-4734810a8ce1",
        "deepnote_app_coordinates": {
          "h": 5,
          "w": 12,
          "x": 0,
          "y": 120
        },
        "deepnote_cell_type": "code",
        "id": "TTZu0jFEvgXF"
      },
      "outputs": [],
      "source": [
        "# Hint: use float64 for checking the correctness of the gradient\n",
        "net = SmallNet(2, 2, dtype=np.float64)\n",
        "\n",
        "for param_name in [\"W1\", \"b1\", \"W2\", \"b2\"]:\n",
        "    check_grad(net, param_name, X, Y)"
      ]
    },
    {
      "cell_type": "markdown",
      "metadata": {
        "cell_id": "00021-145837f8-c83f-4aab-8e62-0114e59f30fe",
        "deepnote_app_coordinates": {
          "h": 5,
          "w": 12,
          "x": 0,
          "y": 126
        },
        "deepnote_cell_type": "markdown",
        "id": "8mUOs3cVvjM2"
      },
      "source": [
        "## Problem 3"
      ]
    },
    {
      "cell_type": "code",
      "execution_count": null,
      "metadata": {
        "cell_id": "00022-91b3eba0-6025-4839-847c-f5cb275fad07",
        "colab": {
          "base_uri": "https://localhost:8080/"
        },
        "deepnote_app_coordinates": {
          "h": 5,
          "w": 12,
          "x": 0,
          "y": 132
        },
        "deepnote_cell_type": "code",
        "id": "nn2AAoZo0vjU",
        "outputId": "f55609d1-4868-434f-a712-ccfb5e564bc8"
      },
      "outputs": [
        {
          "output_type": "stream",
          "name": "stdout",
          "text": [
            "after 0 steps \tloss=0.7026127050668588\n",
            "after 5000 steps \tloss=0.041810541367591145\n",
            "after 10000 steps \tloss=0.010635415218058929\n",
            "after 15000 steps \tloss=0.0057148634568882795\n",
            "after 20000 steps \tloss=0.0038262611962083005\n",
            "after 25000 steps \tloss=0.0028461615180759873\n",
            "after 30000 steps \tloss=0.002251853069875771\n",
            "after 35000 steps \tloss=0.0018553123342797077\n",
            "after 40000 steps \tloss=0.0015729991167978711\n",
            "after 45000 steps \tloss=0.0013623534926643765\n",
            "after 50000 steps \tloss=0.0011994962439535232\n",
            "after 55000 steps \tloss=0.0010700295669435575\n",
            "after 60000 steps \tloss=0.0009647738517922701\n",
            "after 65000 steps \tloss=0.0008776092816259686\n",
            "after 70000 steps \tloss=0.0008043041519806899\n",
            "after 75000 steps \tloss=0.0007418418595156353\n",
            "after 80000 steps \tloss=0.0006880158180248959\n",
            "after 85000 steps \tloss=0.0006411758454017326\n",
            "after 90000 steps \tloss=0.0006000639502067978\n",
            "after 95000 steps \tloss=0.0005637048662119873\n"
          ]
        }
      ],
      "source": [
        "net = SmallNet(2, 10, dtype=np.float64)\n",
        "\n",
        "alpha = 0.1  # set a learning rate\n",
        "\n",
        "for i in range(100000):\n",
        "    _, loss = net.forward(X, Y, do_backward=True)\n",
        "    if (i % 5000) == 0:\n",
        "        print(f\"after {i} steps \\tloss={loss}\")\n",
        "    for param_name in [\"W1\", \"b1\", \"W2\", \"b2\"]:\n",
        "        param = getattr(net, param_name)\n",
        "        # Hint: use the construct `param[:]` to change the contents of the array!\n",
        "        # Doing instead `param = new_val` simply changes to what the variable\n",
        "        # param points to, without affecting the network!\n",
        "        # alternatively, you could do setattr(net, param_name, new_value)\n",
        "        param[:] = param[:] - alpha*getattr(net, param_name + '_grad')"
      ]
    },
    {
      "cell_type": "code",
      "execution_count": null,
      "metadata": {
        "cell_id": "00023-c92941a8-24d1-46e8-a410-d189c1d87b08",
        "colab": {
          "base_uri": "https://localhost:8080/"
        },
        "deepnote_app_coordinates": {
          "h": 5,
          "w": 12,
          "x": 0,
          "y": 138
        },
        "deepnote_cell_type": "code",
        "id": "TwpEjpkU1JvK",
        "outputId": "ed15b05b-09da-4d3f-d398-f93975d243d8"
      },
      "outputs": [
        {
          "output_type": "stream",
          "name": "stdout",
          "text": [
            "XORnet([0. 0.]) = 0.0003055298272821474\n",
            "XORnet([0. 1.]) = 0.9996220640425268\n",
            "XORnet([1. 0.]) = 0.9993536254684121\n",
            "XORnet([1. 1.]) = 0.00079484133934034\n"
          ]
        }
      ],
      "source": [
        "predictions, loss = net.forward(X, Y, do_backward=True)\n",
        "for x, p in zip(X, predictions):\n",
        "    print(f\"XORnet({x}) = {p[0]}\")"
      ]
    },
    {
      "cell_type": "code",
      "execution_count": null,
      "metadata": {
        "cell_id": "00024-e09655a3-84e1-4a43-9b61-00edb56c6054",
        "deepnote_app_coordinates": {
          "h": 5,
          "w": 12,
          "x": 0,
          "y": 144
        },
        "deepnote_cell_type": "code",
        "id": "U0ZMyHqz8xrC",
        "colab": {
          "base_uri": "https://localhost:8080/"
        },
        "outputId": "8be479fb-60a7-4c2d-8ae3-52223e6ce5fa"
      },
      "outputs": [
        {
          "output_type": "stream",
          "name": "stdout",
          "text": [
            "Hudden_dim number: 2\n",
            "after 0 steps \tloss=0.7110607254814478\n",
            "after 5000 steps \tloss=0.693207422319511\n",
            "after 10000 steps \tloss=0.6930917791417205\n",
            "after 15000 steps \tloss=0.6928017751026287\n",
            "after 20000 steps \tloss=0.6750552931566346\n",
            "after 25000 steps \tloss=0.28086017678204334\n",
            "after 30000 steps \tloss=0.14108915521978377\n",
            "after 35000 steps \tloss=0.09052288467497333\n",
            "after 40000 steps \tloss=0.06579840236599296\n",
            "after 45000 steps \tloss=0.05140414988106337\n",
            "after 50000 steps \tloss=0.042061505738982416\n",
            "after 55000 steps \tloss=0.03553649034872278\n",
            "after 60000 steps \tloss=0.03073378642880377\n",
            "after 65000 steps \tloss=0.027056993241834054\n",
            "after 70000 steps \tloss=0.02415493572306482\n",
            "after 75000 steps \tloss=0.021807922863942092\n",
            "after 80000 steps \tloss=0.019871727396070443\n",
            "after 85000 steps \tloss=0.018247868729510255\n",
            "after 90000 steps \tloss=0.016866872307713422\n",
            "after 95000 steps \tloss=0.01567835864999345\n",
            "Hudden_dim number: 3\n",
            "after 0 steps \tloss=0.7044630792246446\n",
            "after 5000 steps \tloss=0.6931664052085303\n",
            "after 10000 steps \tloss=0.693093475961368\n",
            "after 15000 steps \tloss=0.6929937458503146\n",
            "after 20000 steps \tloss=0.6925307859237987\n",
            "after 25000 steps \tloss=0.6647341378026893\n",
            "after 30000 steps \tloss=0.0859198893429977\n",
            "after 35000 steps \tloss=0.02852545165286849\n",
            "after 40000 steps \tloss=0.016744496729319727\n",
            "after 45000 steps \tloss=0.011839602370975902\n",
            "after 50000 steps \tloss=0.009160930068210092\n",
            "after 55000 steps \tloss=0.007473771327303344\n",
            "after 60000 steps \tloss=0.006313388538159621\n",
            "after 65000 steps \tloss=0.005466184786054531\n",
            "after 70000 steps \tloss=0.004820308759846364\n",
            "after 75000 steps \tloss=0.004311525140118826\n",
            "after 80000 steps \tloss=0.003900312022957987\n",
            "after 85000 steps \tloss=0.0035610164706992194\n",
            "after 90000 steps \tloss=0.0032762599120887467\n",
            "after 95000 steps \tloss=0.0030338498248490024\n",
            "Hudden_dim number: 5\n",
            "after 0 steps \tloss=0.9126785839193827\n",
            "after 5000 steps \tloss=0.6929517240615254\n",
            "after 10000 steps \tloss=0.6496716900001329\n",
            "after 15000 steps \tloss=0.04166240319787587\n",
            "after 20000 steps \tloss=0.011868160146935038\n",
            "after 25000 steps \tloss=0.006205703654919117\n",
            "after 30000 steps \tloss=0.004043159857899957\n",
            "after 35000 steps \tloss=0.0029467486495893063\n",
            "after 40000 steps \tloss=0.002296551680612489\n",
            "after 45000 steps \tloss=0.0018707855835428718\n",
            "after 50000 steps \tloss=0.0015723242966328528\n",
            "after 55000 steps \tloss=0.0013524657071168275\n",
            "after 60000 steps \tloss=0.0011842943184007216\n",
            "after 65000 steps \tloss=0.0010518035727363141\n",
            "after 70000 steps \tloss=0.0009449134716205522\n",
            "after 75000 steps \tloss=0.0008569776825759866\n",
            "after 80000 steps \tloss=0.0007834455222935069\n",
            "after 85000 steps \tloss=0.000721101526068467\n",
            "after 90000 steps \tloss=0.0006676122401400315\n",
            "after 95000 steps \tloss=0.0006212450552243621\n",
            "Hudden_dim number: 10\n",
            "after 0 steps \tloss=0.8890746474660212\n",
            "after 5000 steps \tloss=0.6879254392134269\n",
            "after 10000 steps \tloss=0.058050859722519034\n",
            "after 15000 steps \tloss=0.01114593077743498\n",
            "after 20000 steps \tloss=0.005589357419323258\n",
            "after 25000 steps \tloss=0.0036345006408491764\n",
            "after 30000 steps \tloss=0.002662458774748323\n",
            "after 35000 steps \tloss=0.0020877751102427633\n",
            "after 40000 steps \tloss=0.0017106383069928491\n",
            "after 45000 steps \tloss=0.0014452292678632517\n",
            "after 50000 steps \tloss=0.0012488579146083336\n",
            "after 55000 steps \tloss=0.0010979932749234423\n",
            "after 60000 steps \tloss=0.0009786406521526958\n",
            "after 65000 steps \tloss=0.0008819740553184373\n",
            "after 70000 steps \tloss=0.0008021611698854932\n",
            "after 75000 steps \tloss=0.0007351983932637842\n",
            "after 80000 steps \tloss=0.0006782490896318212\n",
            "after 85000 steps \tloss=0.000629249005806931\n",
            "after 90000 steps \tloss=0.0005866612018522979\n",
            "after 95000 steps \tloss=0.0005493184618260311\n",
            "Hudden_dim number: 20\n",
            "after 0 steps \tloss=1.1477551282150695\n",
            "after 5000 steps \tloss=0.0810520531712841\n",
            "after 10000 steps \tloss=0.014607127555088584\n",
            "after 15000 steps \tloss=0.007080724069866373\n",
            "after 20000 steps \tloss=0.004507484112118208\n",
            "after 25000 steps \tloss=0.0032516877946314453\n",
            "after 30000 steps \tloss=0.0025195211226929364\n",
            "after 35000 steps \tloss=0.0020443414636234464\n",
            "after 40000 steps \tloss=0.0017130046301426728\n",
            "after 45000 steps \tloss=0.0014697783840815133\n",
            "after 50000 steps \tloss=0.0012841965269911823\n",
            "after 55000 steps \tloss=0.0011382693707740112\n",
            "after 60000 steps \tloss=0.00102072306211127\n",
            "after 65000 steps \tloss=0.0009241498269161707\n",
            "after 70000 steps \tloss=0.0008434906064611746\n",
            "after 75000 steps \tloss=0.000775177704196211\n",
            "after 80000 steps \tloss=0.0007166260295585544\n",
            "after 85000 steps \tloss=0.0006659185158788541\n",
            "after 90000 steps \tloss=0.0006216046583811484\n",
            "after 95000 steps \tloss=0.0005825675306910987\n"
          ]
        }
      ],
      "source": [
        "# TODO:\n",
        "# Generate data for a 3D XOR task\n",
        "# Then estimate the success rate of training the network with diferent\n",
        "# hidden sizes.\n",
        "\n",
        "X3 = np.array(np.meshgrid([0, 1], [0, 1], [0, 1])).T.reshape(-1,3)\n",
        "Y3 = np.logical_xor(np.logical_xor(X3[:,0],X3[:,1]), X3[:,2]).astype(int)[:, np.newaxis]\n",
        "\n",
        "\n",
        "for hidden_dim in [2, 3, 5, 10, 20]:\n",
        "    print(f'Hudden_dim number: {hidden_dim}')\n",
        "    # TODO: run a few trainings and record the fraction of successful ones\n",
        "    net = SmallNet(3, hidden_dim, dtype=np.float64)\n",
        "    \n",
        "    for i in range(100000):\n",
        "      _, loss = net.forward(X3, Y3, do_backward=True)\n",
        "      if (i % 5000) == 0:\n",
        "          print(f\"after {i} steps \\tloss={loss}\")\n",
        "      for param_name in [\"W1\", \"b1\", \"W2\", \"b2\"]:\n",
        "          param = getattr(net, param_name)\n",
        "          # Hint: use the construct `param[:]` to change the contents of the array!\n",
        "          # Doing instead `param = new_val` simply changes to what the variable\n",
        "          # param points to, without affecting the network!\n",
        "          # alternatively, you could do setattr(net, param_name, new_value)\n",
        "          param[:] = param[:] - alpha*getattr(net, param_name + '_grad')\n",
        "    pass"
      ]
    },
    {
      "cell_type": "markdown",
      "metadata": {
        "cell_id": "00025-9703bd09-6aae-4830-8221-09b53a623e4b",
        "deepnote_app_coordinates": {
          "h": 5,
          "w": 12,
          "x": 0,
          "y": 150
        },
        "deepnote_cell_type": "markdown",
        "id": "UuaLEoV-9DLG"
      },
      "source": [
        "## Problem 4\n"
      ]
    },
    {
      "cell_type": "code",
      "source": [
        "X3 = np.array(np.meshgrid([0, 1], [0, 1], [0, 1])).T.reshape(-1,3)\n",
        "Y3 = np.logical_xor(np.logical_xor(X3[:,0],X3[:,1]), X3[:,2]).astype(int)[:, np.newaxis]"
      ],
      "metadata": {
        "id": "rce39dEDpcbu"
      },
      "execution_count": null,
      "outputs": []
    },
    {
      "cell_type": "code",
      "execution_count": null,
      "metadata": {
        "cell_id": "00026-1a2be430-91e0-4209-ab3f-9ef84c39513b",
        "deepnote_app_coordinates": {
          "h": 5,
          "w": 12,
          "x": 0,
          "y": 156
        },
        "deepnote_cell_type": "code",
        "id": "w3lk9_TM-MvK"
      },
      "outputs": [],
      "source": [
        "class SmallNet4:\n",
        "    def __init__(self, in_features, num_hidden, dtype=np.float32):\n",
        "        self.W1 = np.zeros((num_hidden, in_features), dtype=dtype)\n",
        "        self.b1 = np.zeros((num_hidden, ), dtype=dtype)\n",
        "        self.W2 = np.zeros((1, num_hidden), dtype=dtype)\n",
        "        self.b2 = np.zeros((1,), dtype=dtype)\n",
        "        self.init_params()\n",
        "\n",
        "    def init_params(self):\n",
        "        self.W1 = np.random.normal(0, 0.5, self.W1.shape)\n",
        "        self.b1 = np.random.normal(0, 0.5, self.b1.shape)\n",
        "        self.W2 = np.random.normal(0, 0.5, self.W2.shape)\n",
        "        self.b2 = np.random.normal(0, 0.5, self.b2.shape)\n",
        "        # TODO for Problem 2:\n",
        "        # set all parameters to small random values, e.g. from N(0, 0.5)\n",
        "        pass\n",
        "\n",
        "    def forward(self, X, Y=None, do_backward=False):\n",
        "        # TODO Problem 1: Fill in details of forward propagation\n",
        "\n",
        "        # Input to neurons in 1st layer\n",
        "        A1 = X@self.W1.T+self.b1\n",
        "        # Outputs after the sigmoid non-linearity\n",
        "        O1 = np.maximum(A1, 0)\n",
        "        # Inputs to neuron in the second layer\n",
        "        A2 = O1@self.W2.T+self.b2\n",
        "        # Outputs after the sigmoid non-linearity\n",
        "        O2 = sigmoid(A2)\n",
        "\n",
        "        # When Y is none, simply return the predictions. Else compute the loss\n",
        "        if Y is not None:\n",
        "            loss = Y*np.log(O2) + (1-Y)*np.log(1 - O2)# TODO cross-entropy loss\n",
        "            # normalize loss by batch size\n",
        "            loss = - loss.sum() / X.shape[0]\n",
        "        else:\n",
        "            loss = np.nan\n",
        "\n",
        "        if do_backward:\n",
        "            # TODO in Problem 2:\n",
        "            # fill in the gradient computation\n",
        "            # Please note, that there is a correspondance between\n",
        "            # the forward and backward pass: with backward computations happening\n",
        "            # in reverse order.\n",
        "            # We save the gradients with respect to the parameters as fields of self.\n",
        "            # It is not very elegant, but simplifies training code later on.\n",
        "\n",
        "            # A2_grad is the gradient of loss with respect to A2\n",
        "            # Hint: there is a concise formula for the gradient\n",
        "            # of logistic sigmoid and cross-entropy loss\n",
        "            O2_grad = (O2-Y)/(O2-np.square(O2))\n",
        "            A2_grad = O2_grad*(sigmoid(A2)*(1- sigmoid(A2)))\n",
        "            self.b2_grad = A2_grad.sum(0)/X.shape[0]\n",
        "            self.W2_grad = np.array([(O1*A2_grad).sum(0)/X.shape[0]])\n",
        "            O1_grad = self.W2*A2_grad\n",
        "            A1_grad = O1_grad*(A1 > 0).astype(int)\n",
        "            self.b1_grad = A1_grad.sum(0)/X.shape[0]\n",
        "            self.W1_grad = np.zeros(self.W1.shape)\n",
        "            for i in range(X.shape[0]):\n",
        "                self.W1_grad += (X[i][:, np.newaxis]*A1_grad[i]).T  \n",
        "            self.W1_grad /= X.shape[0]\n",
        "\n",
        "        return O2, loss"
      ]
    },
    {
      "cell_type": "markdown",
      "source": [
        "Average loss function value after 20k iterations for diffrent hidden layer size.\n",
        "We can see that bigger hidden layer have better socre."
      ],
      "metadata": {
        "id": "6kOR2USELLHQ"
      }
    },
    {
      "cell_type": "code",
      "source": [
        "alpha = 0.1  # set a learning rate\n",
        "\n",
        "array = np.array([2, 3, 5, 10, 20])\n",
        "result = np.zeros((5,))\n",
        "\n",
        "for hidden_dim in range(len(array)):\n",
        "    for iter in range(100):\n",
        "        net = SmallNet4(3, array[hidden_dim], dtype=np.float64)\n",
        "        for i in range(20000):\n",
        "            _, loss = net.forward(X3, Y3, do_backward=True)\n",
        "            # if (i % 5000) == 0:\n",
        "            #     print(f\"after {i} steps \\tloss={loss}\")\n",
        "            for param_name in [\"W1\", \"b1\", \"W2\", \"b2\"]:\n",
        "                param = getattr(net, param_name)\n",
        "                # Hint: use the construct `param[:]` to change the contents of the array!\n",
        "                # Doing instead `param = new_val` simply changes to what the variable\n",
        "                # param points to, without affecting the network!\n",
        "                # alternatively, you could do setattr(net, param_name, new_value)\n",
        "                param[:] = param[:] - alpha*getattr(net, param_name + '_grad')\n",
        "        result[hidden_dim] += loss\n",
        "\n",
        "plt.title('Avg loss after 20k iterations')\n",
        "plt.bar(array.astype(str), result)\n",
        "plt.show()"
      ],
      "metadata": {
        "id": "QCT8XeTo59-8",
        "colab": {
          "base_uri": "https://localhost:8080/",
          "height": 281
        },
        "outputId": "a92ca9b3-2c1b-4e64-ec24-38d760640865"
      },
      "execution_count": null,
      "outputs": [
        {
          "output_type": "display_data",
          "data": {
            "text/plain": [
              "<Figure size 432x288 with 1 Axes>"
            ],
            "image/png": "[encoded data removed]"
          },
          "metadata": {
            "needs_background": "light"
          }
        }
      ]
    },
    {
      "cell_type": "markdown",
      "source": [
        "To see diffrences better I multyply result by 100"
      ],
      "metadata": {
        "id": "LgimEtjJLwi1"
      }
    },
    {
      "cell_type": "markdown",
      "metadata": {
        "cell_id": "00027-de8a387d-3b6a-48d5-b6c8-fddf13637e38",
        "deepnote_app_coordinates": {
          "h": 5,
          "w": 12,
          "x": 0,
          "y": 162
        },
        "deepnote_cell_type": "markdown",
        "id": "_Hr_iAKX-ND1"
      },
      "source": [
        "## Problem 5"
      ]
    },
    {
      "cell_type": "code",
      "execution_count": null,
      "metadata": {
        "cell_id": "00028-0aa6ea62-907d-44bf-9ba4-71870d3dd547",
        "deepnote_app_coordinates": {
          "h": 5,
          "w": 12,
          "x": 0,
          "y": 168
        },
        "deepnote_cell_type": "code",
        "id": "rnz6CndQ-NRI"
      },
      "outputs": [],
      "source": [
        "class SmallNet5:\n",
        "    def __init__(self, in_features, num_hidden, dtype=np.float32):\n",
        "        self.W1 = np.zeros((num_hidden, in_features), dtype=dtype)\n",
        "        self.b1 = np.zeros((num_hidden, ), dtype=dtype)\n",
        "        self.W2 = np.zeros((num_hidden, num_hidden), dtype=dtype)\n",
        "        self.b2 = np.zeros((num_hidden,), dtype=dtype)\n",
        "        self.W3 = np.zeros((1, num_hidden), dtype=dtype)\n",
        "        self.b3 = np.zeros((1,), dtype=dtype)\n",
        "        self.init_params()\n",
        "\n",
        "    def init_params(self):\n",
        "        self.W1 = np.random.normal(0, 0.5, self.W1.shape)\n",
        "        self.b1 = np.random.normal(0, 0.5, self.b1.shape)\n",
        "        self.W2 = np.random.normal(0, 0.5, self.W2.shape)\n",
        "        self.b2 = np.random.normal(0, 0.5, self.b2.shape)\n",
        "        self.W3 = np.random.normal(0, 0.5, self.W3.shape)\n",
        "        self.b3 = np.random.normal(0, 0.5, self.b3.shape)\n",
        "        # TODO for Problem 2:\n",
        "        # set all parameters to small random values, e.g. from N(0, 0.5)\n",
        "        pass\n",
        "\n",
        "    def forward(self, X, Y=None, do_backward=False):\n",
        "        # TODO Problem 1: Fill in details of forward propagation\n",
        "\n",
        "        # Input to neurons in 1st layer\n",
        "        A1 = X@self.W1.T+self.b1\n",
        "        # Outputs after the sigmoid non-linearity\n",
        "        O1 = np.maximum(A1, 0)\n",
        "        # Inputs to neuron in the second layer\n",
        "        A2 = O1@self.W2.T+self.b2\n",
        "        # Outputs after the sigmoid non-linearity\n",
        "        O2 = np.maximum(A2, 0)\n",
        "\n",
        "        A3 = O2@self.W3.T+self.b3\n",
        "\n",
        "        O3 = sigmoid(A3)\n",
        "\n",
        "        # When Y is none, simply return the predictions. Else compute the loss\n",
        "        if Y is not None:\n",
        "            loss = Y*np.log(O3) + (1-Y)*np.log(1 - O3)# TODO cross-entropy loss\n",
        "            # normalize loss by batch size\n",
        "            loss = - loss.sum() / X.shape[0]\n",
        "        else:\n",
        "            loss = np.nan\n",
        "\n",
        "        if do_backward:\n",
        "            # TODO in Problem 2:\n",
        "            # fill in the gradient computation\n",
        "            # Please note, that there is a correspondance between\n",
        "            # the forward and backward pass: with backward computations happening\n",
        "            # in reverse order.\n",
        "            # We save the gradients with respect to the parameters as fields of self.\n",
        "            # It is not very elegant, but simplifies training code later on.\n",
        "\n",
        "            # A2_grad is the gradient of loss with respect to A2\n",
        "            # Hint: there is a concise formula for the gradient\n",
        "            # of logistic sigmoid and cross-entropy loss\n",
        "            \n",
        "            # Output layer\n",
        "            O3_grad = (O3-Y)/(O3-np.square(O3))\n",
        "            A3_grad = O3_grad*(sigmoid(A3)*(1 - sigmoid(A3)))\n",
        "            self.b3_grad = A3_grad.sum(0)/X.shape[0]\n",
        "            self.W3_grad = np.array([(O2*A3_grad).sum(0)/X.shape[0]])\n",
        "            \n",
        "            # 2 Hidden layer\n",
        "          \n",
        "            O2_grad = self.W3*A3_grad\n",
        "            A2_grad = O2_grad*(A2 > 0).astype(int)\n",
        "            self.b2_grad = A2_grad.sum(0)/X.shape[0]\n",
        "            self.W2_grad = np.zeros(self.W2.shape)\n",
        "            for i in range(X.shape[0]):\n",
        "                self.W2_grad += (O1[i][:, np.newaxis]*A2_grad[i]).T  \n",
        "            self.W2_grad /= X.shape[0]\n",
        "\n",
        "            # 1 Hidden layer\n",
        "            O1_grad = np.zeros((O1.shape))\n",
        "            for i in range(self.W1.shape[0]):\n",
        "                O1_grad += A2_grad[:,i][:, np.newaxis]@self.W2[i].reshape(1,self.W2.shape[0])\n",
        "            #O1_grad /= self.W1.shape[0]\n",
        "\n",
        "            A1_grad = O1_grad*(A1 > 0).astype(int)\n",
        "            self.b1_grad = A1_grad.sum(0)/X.shape[0]\n",
        "            self.W1_grad = np.zeros(self.W1.shape)\n",
        "            for i in range(X.shape[0]):\n",
        "                self.W1_grad += (X[i][:, np.newaxis]*A1_grad[i]).T\n",
        "            self.W1_grad /= X.shape[0]\n",
        "\n",
        "        return O2, loss"
      ]
    },
    {
      "cell_type": "markdown",
      "source": [
        "Loss function for 3DXor problem on 2 hidden layers every have size of 20"
      ],
      "metadata": {
        "id": "_0QqhMD2K4Yv"
      }
    },
    {
      "cell_type": "code",
      "source": [
        "alpha = 0.1  # set a learning rate\n",
        "\n",
        "array = np.array([2, 3, 5, 10, 20])\n",
        "result = np.zeros((5,))\n",
        "\n",
        "for hidden_dim in range(len(array)):\n",
        "    for iter in range(100):\n",
        "        net = SmallNet5(3, array[hidden_dim], dtype=np.float64)\n",
        "        for i in range(20000):\n",
        "            _, loss = net.forward(X3, Y3, do_backward=True)\n",
        "            # if (i % 5000) == 0:\n",
        "            #     print(f\"after {i} steps \\tloss={loss}\")\n",
        "            for param_name in [\"W1\", \"b1\", \"W2\", \"b2\", \"W3\", \"b3\"]:\n",
        "                param = getattr(net, param_name)\n",
        "                # Hint: use the construct `param[:]` to change the contents of the array!\n",
        "                # Doing instead `param = new_val` simply changes to what the variable\n",
        "                # param points to, without affecting the network!\n",
        "                # alternatively, you could do setattr(net, param_name, new_value)\n",
        "                param[:] = param[:] - alpha*getattr(net, param_name + '_grad')\n",
        "        result[hidden_dim] += loss\n",
        "\n",
        "plt.title('Avg loss after 20k iterations')\n",
        "plt.bar(array.astype(str), result)\n",
        "plt.show()"
      ],
      "metadata": {
        "colab": {
          "base_uri": "https://localhost:8080/",
          "height": 281
        },
        "id": "OD_nQKMypUjL",
        "outputId": "f6666fbc-7998-43e5-e7ea-f5322e6389b5"
      },
      "execution_count": null,
      "outputs": [
        {
          "output_type": "display_data",
          "data": {
            "text/plain": [
              "<Figure size 432x288 with 1 Axes>"
            ],
            "image/png": "[encoded data removed]"
          },
          "metadata": {
            "needs_background": "light"
          }
        }
      ]
    },
    {
      "cell_type": "code",
      "source": [
        "net = SmallNet5(3, 3, dtype=np.float64)\n",
        "\n",
        "alpha = 0.1  # set a learning rate\n",
        "\n",
        "result = np.zeros((100000,))\n",
        "\n",
        "for i in range(100000):\n",
        "    _, loss = net.forward(X3, Y3, do_backward=True)\n",
        "    for param_name in [\"W1\", \"b1\", \"W2\", \"b2\", \"W3\", \"b3\"]:\n",
        "        param = getattr(net, param_name)\n",
        "        param[:] = param[:] - alpha*getattr(net, param_name + '_grad')\n",
        "    result[i] = loss\n",
        "\n",
        "plt.title(\"Loss function\")\n",
        "plt.xlabel(\"iteration\")\n",
        "plt.ylabel(\"Loss function\")\n",
        "plt.plot(np.arange(100000), result)\n",
        "\n",
        "print(f'Last loss value: {result[99999]}')"
      ],
      "metadata": {
        "colab": {
          "base_uri": "https://localhost:8080/",
          "height": 312
        },
        "id": "GXEmpuGW8HpT",
        "outputId": "1860c8a3-29b4-4cc1-8093-9411f6372072"
      },
      "execution_count": null,
      "outputs": [
        {
          "output_type": "stream",
          "name": "stdout",
          "text": [
            "Last loss value: 1.2371485144426052e-05\n"
          ]
        },
        {
          "output_type": "display_data",
          "data": {
            "text/plain": [
              "<Figure size 432x288 with 1 Axes>"
            ],
            "image/png": "[encoded data removed]"
          },
          "metadata": {
            "needs_background": "light"
          }
        }
      ]
    },
    {
      "cell_type": "markdown",
      "metadata": {
        "cell_id": "00029-1de44bc6-5f35-4df3-af9a-408291ccc867",
        "deepnote_app_coordinates": {
          "h": 5,
          "w": 12,
          "x": 0,
          "y": 174
        },
        "deepnote_cell_type": "markdown",
        "id": "4PcNxrCt-NcN"
      },
      "source": [
        "## Problem 6"
      ]
    },
    {
      "cell_type": "code",
      "execution_count": null,
      "metadata": {
        "cell_id": "00030-fdaced74-34ab-4cfc-8fa2-f3a0b012fbf2",
        "deepnote_app_coordinates": {
          "h": 5,
          "w": 12,
          "x": 0,
          "y": 180
        },
        "deepnote_cell_type": "code",
        "id": "6Brepirl-Nln"
      },
      "outputs": [],
      "source": [
        "def sigmoid(x):\n",
        "    return 1/(1 + np.exp(-x))\n",
        "\n",
        "\n",
        "class SmallNet6:\n",
        "    def __init__(self, in_features, number_of_hidden_layers, num_hidden, dtype=np.float32):\n",
        "        self.n_hidden_l = number_of_hidden_layers\n",
        "        self.size_hidden = num_hidden\n",
        "        self.W0 = np.zeros((num_hidden, in_features))\n",
        "        #hidden layers\n",
        "        self.W1 = np.zeros((number_of_hidden_layers-1, num_hidden, num_hidden), dtype=dtype)\n",
        "        self.b1 = np.zeros((number_of_hidden_layers, num_hidden), dtype=dtype)\n",
        "        # output layer \n",
        "        self.W2 = np.zeros((1, num_hidden), dtype=dtype)\n",
        "        self.b2 = np.zeros((1,), dtype=dtype)\n",
        "        self.init_params()\n",
        "\n",
        "    def init_params(self):\n",
        "        self.W0 = np.random.normal(0, 0.5, self.W0.shape)\n",
        "        self.W1 = np.random.normal(0, 0.5, self.W1.shape)\n",
        "        self.b1 = np.random.normal(0, 0.5, self.b1.shape)\n",
        "        self.W2 = np.random.normal(0, 0.5, self.W2.shape)\n",
        "        self.b2 = np.random.normal(0, 0.5, self.b2.shape)\n",
        "        \n",
        "        pass\n",
        "\n",
        "    def forward(self, X, Y=None, do_backward=False):\n",
        "        \n",
        "        A1 = np.zeros((self.n_hidden_l, X.shape[0], self.size_hidden))\n",
        "        O1 = np.zeros((self.n_hidden_l, X.shape[0], self.size_hidden))\n",
        "        \n",
        "        # Calculating first hidden layer\n",
        "        A1[0] = X@self.W0.T+self.b1[0] # X x n\n",
        "        #O1[0] = sigmoid(A1[0])  # X x n\n",
        "        O1[0] = np.maximum(A1[0], 0)\n",
        "\n",
        "        # Calculating rest of hidden layers\n",
        "        for i in range(1, self.n_hidden_l):\n",
        "            A1[i] = O1[i-1]@self.W1[i-1].T+self.b1[i] # X x n\n",
        "            #O1[i] = sigmoid(A1[i]) # X x n\n",
        "            O1[i] = np.maximum(A1[i], 0)\n",
        "\n",
        "        #A1 = X@self.W1.T+self.b1\n",
        "        \n",
        "        #O1 = sigmoid(A1)\n",
        "        \n",
        "        # Calculating output layer\n",
        "        A2 = O1[-1]@self.W2.T+self.b2 # X x 1        \n",
        "        O2 = sigmoid(A2)  # X x 1\n",
        "\n",
        "        \n",
        "        if Y is not None:\n",
        "            loss = Y*np.log(O2) + (1-Y)*np.log(1 - O2)\n",
        "            # normalize loss by batch size\n",
        "            loss = - loss.sum() / X.shape[0]\n",
        "        else:\n",
        "            loss = np.nan\n",
        "\n",
        "        if do_backward:\n",
        "            # Calculating gradient for output layer\n",
        "            O2_grad = (O2-Y)/(O2-np.square(O2)) # X x 1\n",
        "            A2_grad = O2_grad*(sigmoid(A2)*(1 - sigmoid(A2))) # X x 1\n",
        "            self.b2_grad = A2_grad.sum(0)/X.shape[0]\n",
        "            self.W2_grad = np.array([(O1[-1]*A2_grad).sum(0)/X.shape[0]])\n",
        "            \n",
        "            # Init grad tables\n",
        "            A1_grad = np.zeros((self.n_hidden_l, X.shape[0], self.size_hidden))\n",
        "            O1_grad = np.zeros((self.n_hidden_l, X.shape[0], self.size_hidden))\n",
        "            self.W1_grad = np.zeros(self.W1.shape)\n",
        "            self.b1_grad = np.zeros(self.b1.shape)\n",
        "\n",
        "            O1_grad[-1] = self.W2*A2_grad\n",
        "            #For sigmoid function\n",
        "            #A1_grad[-1] = O1_grad[-1]*(sigmoid(A1[-1])*(1 - sigmoid(A1[-1])))\n",
        "            \n",
        "            #For ReLu function\n",
        "            A1_grad[-1] = O1_grad[-1]*(A1[-1] > 0).astype(int)\n",
        "            \n",
        "            # Calculating whole O1_grad and A1_grad to calculate b_grad and W_grad in next loop\n",
        "            # ----------------------------------------------------------------------------------\n",
        "            for i in range(1, self.n_hidden_l):\n",
        "                for j in range(self.size_hidden):\n",
        "                    O1_grad[self.n_hidden_l-1-i] += A1_grad[self.n_hidden_l-i][:, j][:, np.newaxis]@self.W1[self.n_hidden_l-1-i][j].reshape(1,self.W1.shape[1])\n",
        "                \n",
        "                #For sigmoid function\n",
        "                #A1_grad[self.n_hidden_l-1-i] = O1_grad[self.n_hidden_l-1-i]*(sigmoid(A1[self.n_hidden_l-1-i]) * (1 - sigmoid(A1[self.n_hidden_l-1-i])))\n",
        "\n",
        "                #For ReLu function\n",
        "                A1_grad[self.n_hidden_l-1-i] = O1_grad[self.n_hidden_l-1-i]*(A1[self.n_hidden_l-1-i] > 0).astype(int)\n",
        "\n",
        "\n",
        "            # print(O1_grad[0])\n",
        "            # print(A1_grad[0])\n",
        "\n",
        "            # Calculating W1_grad and b1_grad\n",
        "            \n",
        "            for i in range(self.W1.shape[0]):\n",
        "                for j in range(X.shape[0]):\n",
        "                    self.W1_grad[i] += (O1[i][j][:, np.newaxis]*A1_grad[i+1][j]).T \n",
        "            \n",
        "            self.W1_grad /= X.shape[0]\n",
        "            for i in range(self.b1.shape[0]):\n",
        "                self.b1_grad[i] = A1_grad[i].sum(0)/X.shape[0] \n",
        "              \n",
        "            \n",
        "\n",
        "            self.W0_grad = np.zeros(self.W0.shape)\n",
        "            for i in range(X.shape[0]):\n",
        "                self.W0_grad += (X[i][:, np.newaxis]*A1_grad[0][i]).T\n",
        "            self.W0_grad /= X.shape[0]\n",
        "\n",
        "        return O2, loss"
      ]
    },
    {
      "cell_type": "code",
      "source": [
        "net = SmallNet6(3, 4, 5, dtype=np.float64)\n",
        "\n",
        "alpha = 0.1  # set a learning rate\n",
        "\n",
        "# _, loss = net.forward(X3, Y3, do_backward=True)\n",
        "result = np.zeros((100000,))\n",
        "\n",
        "\n",
        "for i in range(100000):\n",
        "    _, loss = net.forward(X3, Y3, do_backward=True)\n",
        "    for param_name in [\"W0\", \"W1\", \"b1\", \"W2\", \"b2\"]:\n",
        "        param = getattr(net, param_name)\n",
        "        param[:] = param[:] - alpha*getattr(net, param_name + '_grad')\n",
        "    result[i] = loss\n",
        "\n",
        "plt.title(\"Loss function\")\n",
        "plt.xlabel(\"iteration\")\n",
        "plt.ylabel(\"Loss function\")\n",
        "plt.plot(np.arange(100000), result)\n",
        "\n",
        "print(f'Last loss value: {result[99999]}')"
      ],
      "metadata": {
        "colab": {
          "base_uri": "https://localhost:8080/",
          "height": 312
        },
        "id": "ksljwrK0gwZI",
        "outputId": "3f451ce2-dfa3-434d-b436-75c712bf4531"
      },
      "execution_count": null,
      "outputs": [
        {
          "output_type": "stream",
          "name": "stdout",
          "text": [
            "Last loss value: 2.071008353885128e-06\n"
          ]
        },
        {
          "output_type": "display_data",
          "data": {
            "text/plain": [
              "<Figure size 432x288 with 1 Axes>"
            ],
            "image/png": "[encoded data removed]"
          },
          "metadata": {
            "needs_background": "light"
          }
        }
      ]
    },
    {
      "cell_type": "code",
      "source": [
        "alpha = 0.1  # set a learning rate\n",
        "\n",
        "array = np.array([1, 2, 3, 5, 10])\n",
        "result = np.zeros((5,))\n",
        "\n",
        "for hidden_dim in tqdm(range(len(array))):\n",
        "    for iter in range(100):\n",
        "        net = SmallNet6(3, array[hidden_dim], 2, dtype=np.float64)\n",
        "        for i in range(10000):\n",
        "            _, loss = net.forward(X3, Y3, do_backward=True)\n",
        "            # if (i % 5000) == 0:\n",
        "            #     print(f\"after {i} steps \\tloss={loss}\")\n",
        "            for param_name in [\"W0\", \"b1\", \"W1\", \"b2\", \"W2\"]:\n",
        "                param = getattr(net, param_name)\n",
        "                # Hint: use the construct `param[:]` to change the contents of the array!\n",
        "                # Doing instead `param = new_val` simply changes to what the variable\n",
        "                # param points to, without affecting the network!\n",
        "                # alternatively, you could do setattr(net, param_name, new_value)\n",
        "                param[:] = param[:] - alpha*getattr(net, param_name + '_grad')\n",
        "        result[hidden_dim] += loss\n",
        "\n",
        "plt.title('Avg loss after 10k iterations')\n",
        "plt.bar(array.astype(str), result)\n",
        "plt.show()"
      ],
      "metadata": {
        "colab": {
          "base_uri": "https://localhost:8080/",
          "height": 298
        },
        "id": "rne-zuX7IiZw",
        "outputId": "e44c9ec8-8a54-435e-c007-3e9921a15eea"
      },
      "execution_count": null,
      "outputs": [
        {
          "output_type": "stream",
          "name": "stderr",
          "text": [
            "100%|██████████| 5/5 [37:46<00:00, 453.30s/it]\n"
          ]
        },
        {
          "output_type": "display_data",
          "data": {
            "text/plain": [
              "<Figure size 432x288 with 1 Axes>"
            ],
            "image/png": "[encoded data removed]"
          },
          "metadata": {
            "needs_background": "light"
          }
        }
      ]
    },
    {
      "cell_type": "code",
      "source": [
        "alpha = 0.1  # set a learning rate\n",
        "\n",
        "array = np.array([1, 2, 3, 5, 10])\n",
        "result = np.zeros((5,))\n",
        "\n",
        "for hidden_dim in tqdm(range(len(array))):\n",
        "    for iter in range(100):\n",
        "        net = SmallNet6(3, array[hidden_dim], 3, dtype=np.float64)\n",
        "        for i in range(10000):\n",
        "            _, loss = net.forward(X3, Y3, do_backward=True)\n",
        "            # if (i % 5000) == 0:\n",
        "            #     print(f\"after {i} steps \\tloss={loss}\")\n",
        "            for param_name in [\"W0\", \"b1\", \"W1\", \"b2\", \"W2\"]:\n",
        "                param = getattr(net, param_name)\n",
        "                # Hint: use the construct `param[:]` to change the contents of the array!\n",
        "                # Doing instead `param = new_val` simply changes to what the variable\n",
        "                # param points to, without affecting the network!\n",
        "                # alternatively, you could do setattr(net, param_name, new_value)\n",
        "                param[:] = param[:] - alpha*getattr(net, param_name + '_grad')\n",
        "        result[hidden_dim] += loss\n",
        "\n",
        "plt.title('Avg loss after 10k iterations')\n",
        "plt.bar(array.astype(str), result)\n",
        "plt.show()"
      ],
      "metadata": {
        "colab": {
          "base_uri": "https://localhost:8080/",
          "height": 298
        },
        "id": "fXve_OZ_YNTm",
        "outputId": "d3ee528e-5ecc-4c74-924b-2cdf1b3de493"
      },
      "execution_count": null,
      "outputs": [
        {
          "output_type": "stream",
          "name": "stderr",
          "text": [
            "100%|██████████| 5/5 [39:34<00:00, 474.93s/it]\n"
          ]
        },
        {
          "output_type": "display_data",
          "data": {
            "text/plain": [
              "<Figure size 432x288 with 1 Axes>"
            ],
            "image/png": "[encoded data removed]"
          },
          "metadata": {
            "needs_background": "light"
          }
        }
      ]
    },
    {
      "cell_type": "code",
      "source": [
        "alpha = 0.1  # set a learning rate\n",
        "\n",
        "array = np.array([1, 2, 3, 5, 10])\n",
        "result = np.zeros((5,))\n",
        "\n",
        "for hidden_dim in tqdm(range(len(array))):\n",
        "    for iter in range(100):\n",
        "        net = SmallNet6(3, array[hidden_dim], 5, dtype=np.float64)\n",
        "        for i in range(10000):\n",
        "            _, loss = net.forward(X3, Y3, do_backward=True)\n",
        "            # if (i % 5000) == 0:\n",
        "            #     print(f\"after {i} steps \\tloss={loss}\")\n",
        "            for param_name in [\"W0\", \"b1\", \"W1\", \"b2\", \"W2\"]:\n",
        "                param = getattr(net, param_name)\n",
        "                # Hint: use the construct `param[:]` to change the contents of the array!\n",
        "                # Doing instead `param = new_val` simply changes to what the variable\n",
        "                # param points to, without affecting the network!\n",
        "                # alternatively, you could do setattr(net, param_name, new_value)\n",
        "                param[:] = param[:] - alpha*getattr(net, param_name + '_grad')\n",
        "        result[hidden_dim] += loss\n",
        "\n",
        "plt.title('Avg loss after 10k iterations')\n",
        "plt.bar(array.astype(str), result)\n",
        "plt.show()"
      ],
      "metadata": {
        "colab": {
          "base_uri": "https://localhost:8080/",
          "height": 298
        },
        "id": "wMf1N-mwEKX9",
        "outputId": "1cf5033f-3c4a-4d1c-9ce7-49d2792d8a9b"
      },
      "execution_count": null,
      "outputs": [
        {
          "output_type": "stream",
          "name": "stderr",
          "text": [
            "100%|██████████| 5/5 [44:11<00:00, 530.34s/it]\n"
          ]
        },
        {
          "output_type": "display_data",
          "data": {
            "text/plain": [
              "<Figure size 432x288 with 1 Axes>"
            ],
            "image/png": "[encoded data removed]"
          },
          "metadata": {
            "needs_background": "light"
          }
        }
      ]
    },
    {
      "cell_type": "code",
      "source": [
        "alpha = 0.1  # set a learning rate\n",
        "\n",
        "array = np.array([1, 2, 3, 5, 10])\n",
        "result = np.zeros((5,))\n",
        "\n",
        "for hidden_dim in tqdm(range(len(array))):\n",
        "    for iter in range(100):\n",
        "        net = SmallNet6(3, array[hidden_dim], 10, dtype=np.float64)\n",
        "        for i in range(10000):\n",
        "            _, loss = net.forward(X3, Y3, do_backward=True)\n",
        "            # if (i % 5000) == 0:\n",
        "            #     print(f\"after {i} steps \\tloss={loss}\")\n",
        "            for param_name in [\"W0\", \"b1\", \"W1\", \"b2\", \"W2\"]:\n",
        "                param = getattr(net, param_name)\n",
        "                # Hint: use the construct `param[:]` to change the contents of the array!\n",
        "                # Doing instead `param = new_val` simply changes to what the variable\n",
        "                # param points to, without affecting the network!\n",
        "                # alternatively, you could do setattr(net, param_name, new_value)\n",
        "                param[:] = param[:] - alpha*getattr(net, param_name + '_grad')\n",
        "        result[hidden_dim] += loss\n",
        "\n",
        "plt.title('Avg loss after 10k iterations')\n",
        "plt.bar(array.astype(str), result)\n",
        "plt.show()"
      ],
      "metadata": {
        "colab": {
          "base_uri": "https://localhost:8080/",
          "height": 472
        },
        "id": "jZI6Zvi5IbCD",
        "outputId": "7e9fe4e8-d55c-41b0-eca5-75c64ace3ab1"
      },
      "execution_count": null,
      "outputs": [
        {
          "output_type": "stream",
          "name": "stderr",
          "text": [
            " 80%|████████  | 4/5 [29:49<08:54, 534.96s/it]<ipython-input-18-b6762fd23db5>:53: RuntimeWarning: divide by zero encountered in log\n",
            "  loss = Y*np.log(O2) + (1-Y)*np.log(1 - O2)\n",
            "<ipython-input-18-b6762fd23db5>:53: RuntimeWarning: invalid value encountered in multiply\n",
            "  loss = Y*np.log(O2) + (1-Y)*np.log(1 - O2)\n",
            "<ipython-input-18-b6762fd23db5>:61: RuntimeWarning: divide by zero encountered in true_divide\n",
            "  O2_grad = (O2-Y)/(O2-np.square(O2)) # X x 1\n",
            "<ipython-input-18-b6762fd23db5>:61: RuntimeWarning: invalid value encountered in true_divide\n",
            "  O2_grad = (O2-Y)/(O2-np.square(O2)) # X x 1\n",
            "<ipython-input-18-b6762fd23db5>:62: RuntimeWarning: invalid value encountered in multiply\n",
            "  A2_grad = O2_grad*(sigmoid(A2)*(1 - sigmoid(A2))) # X x 1\n",
            "100%|██████████| 5/5 [55:00<00:00, 660.08s/it]\n"
          ]
        },
        {
          "output_type": "display_data",
          "data": {
            "text/plain": [
              "<Figure size 432x288 with 1 Axes>"
            ],
            "image/png": "[encoded data removed]"
          },
          "metadata": {
            "needs_background": "light"
          }
        }
      ]
    },
    {
      "cell_type": "markdown",
      "metadata": {
        "cell_id": "00031-032edb86-1c56-46e7-8ea3-3e011d72bf5f",
        "deepnote_app_coordinates": {
          "h": 5,
          "w": 12,
          "x": 0,
          "y": 186
        },
        "deepnote_cell_type": "markdown",
        "id": "nWuv7Q77-Nut"
      },
      "source": [
        "## Problem 7"
      ]
    },
    {
      "cell_type": "code",
      "execution_count": null,
      "metadata": {
        "cell_id": "00032-2eab2b1a-f83b-409c-a066-1642cd2ab2d8",
        "deepnote_app_coordinates": {
          "h": 5,
          "w": 12,
          "x": 0,
          "y": 192
        },
        "deepnote_cell_type": "code",
        "id": "avuvSoWY-N4Z"
      },
      "outputs": [],
      "source": []
    }
  ],
  "metadata": {
    "colab": {
      "provenance": [],
      "include_colab_link": true
    },
    "deepnote": {},
    "deepnote_app_layout": "article",
    "deepnote_execution_queue": [],
    "deepnote_notebook_id": "1f038069-bae5-44e5-92ba-67bdff2c54a6",
    "kernelspec": {
      "display_name": "Python 3 (ipykernel)",
      "language": "python",
      "name": "python3"
    },
    "language_info": {
      "codemirror_mode": {
        "name": "ipython",
        "version": 3
      },
      "file_extension": ".py",
      "mimetype": "text/x-python",
      "name": "python",
      "nbconvert_exporter": "python",
      "pygments_lexer": "ipython3",
      "version": "3.9.16"
    }
  },
  "nbformat": 4,
  "nbformat_minor": 0
}